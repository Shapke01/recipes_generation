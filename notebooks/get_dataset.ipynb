{
 "cells": [
  {
   "cell_type": "code",
   "execution_count": 2,
   "metadata": {},
   "outputs": [],
   "source": [
    "import sys\n",
    "sys.path.append('..')"
   ]
  },
  {
   "cell_type": "code",
   "execution_count": 5,
   "metadata": {},
   "outputs": [],
   "source": [
    "import pathlib\n",
    "from src.data.data_transmission import downloadGDriveFile"
   ]
  },
  {
   "cell_type": "code",
   "execution_count": 7,
   "metadata": {},
   "outputs": [
    {
     "name": "stderr",
     "output_type": "stream",
     "text": [
      "Downloading...\n",
      "From (uriginal): https://drive.google.com/uc?/export=download&id=1DjdbQ2beN2alJgXo7vquKLZo7QO1Yvmg\n",
      "From (redirected): https://drive.google.com/uc?/export=download&id=1DjdbQ2beN2alJgXo7vquKLZo7QO1Yvmg&confirm=t&uuid=cfd0fe55-2fd6-4db3-a4bd-03dc725ba85c\n",
      "To: /home/shapke/Pulpit/recipes_generation/data/processed/dataset.csv\n",
      "100%|██████████| 1.53G/1.53G [00:36<00:00, 41.6MB/s]\n"
     ]
    },
    {
     "data": {
      "text/plain": [
       "'/home/shapke/Pulpit/recipes_generation/data/processed/dataset.csv'"
      ]
     },
     "execution_count": 7,
     "metadata": {},
     "output_type": "execute_result"
    }
   ],
   "source": [
    "current_dir = pathlib.Path.cwd()\n",
    "parent_dir = current_dir.parent\n",
    "dataset_path_to = str(parent_dir.joinpath(\"data/raw/dataset.csv\"))\n",
    "\n",
    "downloadGDriveFile(\"1DjdbQ2beN2alJgXo7vquKLZo7QO1Yvmg\", dataset_path_to)"
   ]
  }
 ],
 "metadata": {
  "kernelspec": {
   "display_name": "Python 3 (ipykernel)",
   "language": "python",
   "name": "python3"
  },
  "language_info": {
   "codemirror_mode": {
    "name": "ipython",
    "version": 3
   },
   "file_extension": ".py",
   "mimetype": "text/x-python",
   "name": "python",
   "nbconvert_exporter": "python",
   "pygments_lexer": "ipython3",
   "version": "3.8.16"
  }
 },
 "nbformat": 4,
 "nbformat_minor": 4
}
