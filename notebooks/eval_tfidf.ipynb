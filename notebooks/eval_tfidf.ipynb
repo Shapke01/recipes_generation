{
 "cells": [
  {
   "cell_type": "code",
   "execution_count": 1,
   "id": "1ac327eb-4452-4c51-a3b8-b253e904b3dc",
   "metadata": {},
   "outputs": [],
   "source": [
    "import pickle\n",
    "\n",
    "import numpy as np\n",
    "import pandas as pd\n",
    "\n",
    "from sklearn.metrics.pairwise import cosine_similarity\n",
    "\n",
    "import os\n",
    "import sys\n",
    "cwd = os.path.dirname(os.path.abspath(\"__file__\"))\n",
    "parent_dir = os.path.abspath(os.path.join(cwd, \"../\"))\n",
    "sys.path.append(parent_dir)\n",
    "from src.models.TFIDF import Vectorizer"
   ]
  },
  {
   "cell_type": "code",
   "execution_count": 2,
   "id": "99550910-6d64-4161-8761-f6476bb87159",
   "metadata": {},
   "outputs": [],
   "source": [
    "datasetPath = \"../data/processed/dataset.csv\"\n",
    "vectorizerPath = \"../models/tfidf_vectorizer.pkl\"\n",
    "tfidfRecipesPath = \"../data/processed/tfidf_recipes.csv\"\n",
    "\n",
    "model = Vectorizer(datasetPath, vectorizerPath,\n",
    "                   tfidfRecipesPath, cosine_similarity)"
   ]
  },
  {
   "cell_type": "code",
   "execution_count": null,
   "id": "66d82788-fa7e-4995-876d-e4b207b133cf",
   "metadata": {},
   "outputs": [],
   "source": []
  }
 ],
 "metadata": {
  "kernelspec": {
   "display_name": "Python 3 (ipykernel)",
   "language": "python",
   "name": "python3"
  },
  "language_info": {
   "codemirror_mode": {
    "name": "ipython",
    "version": 3
   },
   "file_extension": ".py",
   "mimetype": "text/x-python",
   "name": "python",
   "nbconvert_exporter": "python",
   "pygments_lexer": "ipython3",
   "version": "3.8.16"
  }
 },
 "nbformat": 4,
 "nbformat_minor": 5
}
