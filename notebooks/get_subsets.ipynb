{
 "cells": [
  {
   "cell_type": "code",
   "execution_count": 1,
   "metadata": {},
   "outputs": [
    {
     "name": "stderr",
     "output_type": "stream",
     "text": [
      "/usr/lib/python3/dist-packages/pytz/__init__.py:31: SyntaxWarning: invalid escape sequence '\\s'\n",
      "  match = re.match(\"^#\\s*version\\s*([0-9a-z]*)\\s*$\", line)\n"
     ]
    }
   ],
   "source": [
    "import sys\n",
    "sys.path.append('..')\n",
    "import pandas as pd \n",
    "import numpy as np\n",
    "import pathlib\n",
    "from src.models.subsetExtractor import Extractor\n",
    "from src.features.metrics import IoU, OverlapCoefficient"
   ]
  },
  {
   "cell_type": "markdown",
   "metadata": {},
   "source": [
    "## READ TEST DATASET"
   ]
  },
  {
   "cell_type": "code",
   "execution_count": 2,
   "metadata": {},
   "outputs": [
    {
     "data": {
      "text/html": [
       "<div>\n",
       "<style scoped>\n",
       "    .dataframe tbody tr th:only-of-type {\n",
       "        vertical-align: middle;\n",
       "    }\n",
       "\n",
       "    .dataframe tbody tr th {\n",
       "        vertical-align: top;\n",
       "    }\n",
       "\n",
       "    .dataframe thead th {\n",
       "        text-align: right;\n",
       "    }\n",
       "</style>\n",
       "<table border=\"1\" class=\"dataframe\">\n",
       "  <thead>\n",
       "    <tr style=\"text-align: right;\">\n",
       "      <th></th>\n",
       "      <th>set</th>\n",
       "      <th>subset</th>\n",
       "    </tr>\n",
       "  </thead>\n",
       "  <tbody>\n",
       "    <tr>\n",
       "      <th>0</th>\n",
       "      <td>[flour, eggs, milk, cheese, sugar, mustard]</td>\n",
       "      <td>[flour, eggs, milk, sugar]</td>\n",
       "    </tr>\n",
       "    <tr>\n",
       "      <th>1</th>\n",
       "      <td>[tomatoes, head_lettuce, banana, feta_cheese, ...</td>\n",
       "      <td>[tomatoes, head_lettuce, feta_cheese, olive_oil]</td>\n",
       "    </tr>\n",
       "    <tr>\n",
       "      <th>2</th>\n",
       "      <td>[freshly_ground_black_pepper, hot_milk, mayonn...</td>\n",
       "      <td>[freshly_ground_black_pepper, mayonnaise, toma...</td>\n",
       "    </tr>\n",
       "    <tr>\n",
       "      <th>3</th>\n",
       "      <td>[mushroom, nuts, oatmeal, vodka, raisins, sala...</td>\n",
       "      <td>[oatmeal, raisins, nuts, honey]</td>\n",
       "    </tr>\n",
       "    <tr>\n",
       "      <th>4</th>\n",
       "      <td>[cheddar_cheese, ground_beef, chili_powder, ch...</td>\n",
       "      <td>[cheddar_cheese, ground_beef, chili_powder, ch...</td>\n",
       "    </tr>\n",
       "  </tbody>\n",
       "</table>\n",
       "</div>"
      ],
      "text/plain": [
       "                                                 set  \\\n",
       "0        [flour, eggs, milk, cheese, sugar, mustard]   \n",
       "1  [tomatoes, head_lettuce, banana, feta_cheese, ...   \n",
       "2  [freshly_ground_black_pepper, hot_milk, mayonn...   \n",
       "3  [mushroom, nuts, oatmeal, vodka, raisins, sala...   \n",
       "4  [cheddar_cheese, ground_beef, chili_powder, ch...   \n",
       "\n",
       "                                              subset  \n",
       "0                         [flour, eggs, milk, sugar]  \n",
       "1   [tomatoes, head_lettuce, feta_cheese, olive_oil]  \n",
       "2  [freshly_ground_black_pepper, mayonnaise, toma...  \n",
       "3                    [oatmeal, raisins, nuts, honey]  \n",
       "4  [cheddar_cheese, ground_beef, chili_powder, ch...  "
      ]
     },
     "execution_count": 2,
     "metadata": {},
     "output_type": "execute_result"
    }
   ],
   "source": [
    "df = pd.read_json(\"../data/test_sets/subset_extraction_testset.json\")\n",
    "df[\"set\"] = df[\"set\"].apply(lambda ingredients: [x.replace(\" \", \"_\").replace(\"-\", \"_\").lower() for x in ingredients])\n",
    "df[\"subset\"] = df[\"subset\"].apply(lambda ingredients: [x.replace(\" \", \"_\").replace(\"-\", \"_\").lower() for x in ingredients])\n",
    "df.head()"
   ]
  },
  {
   "cell_type": "markdown",
   "metadata": {},
   "source": [
    "## LOAD SUBSET EXTRACTOR"
   ]
  },
  {
   "cell_type": "code",
   "execution_count": 3,
   "metadata": {},
   "outputs": [],
   "source": [
    "path = pathlib.Path().absolute().parent\n",
    "path = path.joinpath(\"models/ingredients_correlation.json\")\n",
    "model = Extractor(path=path)"
   ]
  },
  {
   "cell_type": "code",
   "execution_count": 4,
   "metadata": {},
   "outputs": [
    {
     "data": {
      "text/html": [
       "<div>\n",
       "<style scoped>\n",
       "    .dataframe tbody tr th:only-of-type {\n",
       "        vertical-align: middle;\n",
       "    }\n",
       "\n",
       "    .dataframe tbody tr th {\n",
       "        vertical-align: top;\n",
       "    }\n",
       "\n",
       "    .dataframe thead th {\n",
       "        text-align: right;\n",
       "    }\n",
       "</style>\n",
       "<table border=\"1\" class=\"dataframe\">\n",
       "  <thead>\n",
       "    <tr style=\"text-align: right;\">\n",
       "      <th></th>\n",
       "      <th>set</th>\n",
       "      <th>subset</th>\n",
       "      <th>p_subset</th>\n",
       "    </tr>\n",
       "  </thead>\n",
       "  <tbody>\n",
       "    <tr>\n",
       "      <th>0</th>\n",
       "      <td>[flour, eggs, milk, cheese, sugar, mustard]</td>\n",
       "      <td>[flour, eggs, milk, sugar]</td>\n",
       "      <td>[flour, eggs, milk, sugar]</td>\n",
       "    </tr>\n",
       "    <tr>\n",
       "      <th>1</th>\n",
       "      <td>[tomatoes, head_lettuce, banana, feta_cheese, ...</td>\n",
       "      <td>[tomatoes, head_lettuce, feta_cheese, olive_oil]</td>\n",
       "      <td>[tomatoes, head_lettuce, feta_cheese, olive_oil]</td>\n",
       "    </tr>\n",
       "    <tr>\n",
       "      <th>2</th>\n",
       "      <td>[freshly_ground_black_pepper, hot_milk, mayonn...</td>\n",
       "      <td>[freshly_ground_black_pepper, mayonnaise, toma...</td>\n",
       "      <td>[freshly_ground_black_pepper, mayonnaise, toma...</td>\n",
       "    </tr>\n",
       "    <tr>\n",
       "      <th>3</th>\n",
       "      <td>[mushroom, nuts, oatmeal, vodka, raisins, sala...</td>\n",
       "      <td>[oatmeal, raisins, nuts, honey]</td>\n",
       "      <td>[nuts, oatmeal, raisins, honey]</td>\n",
       "    </tr>\n",
       "    <tr>\n",
       "      <th>4</th>\n",
       "      <td>[cheddar_cheese, ground_beef, chili_powder, ch...</td>\n",
       "      <td>[cheddar_cheese, ground_beef, chili_powder, ch...</td>\n",
       "      <td>[cheddar_cheese, ground_beef, chili_powder]</td>\n",
       "    </tr>\n",
       "  </tbody>\n",
       "</table>\n",
       "</div>"
      ],
      "text/plain": [
       "                                                 set  \\\n",
       "0        [flour, eggs, milk, cheese, sugar, mustard]   \n",
       "1  [tomatoes, head_lettuce, banana, feta_cheese, ...   \n",
       "2  [freshly_ground_black_pepper, hot_milk, mayonn...   \n",
       "3  [mushroom, nuts, oatmeal, vodka, raisins, sala...   \n",
       "4  [cheddar_cheese, ground_beef, chili_powder, ch...   \n",
       "\n",
       "                                              subset  \\\n",
       "0                         [flour, eggs, milk, sugar]   \n",
       "1   [tomatoes, head_lettuce, feta_cheese, olive_oil]   \n",
       "2  [freshly_ground_black_pepper, mayonnaise, toma...   \n",
       "3                    [oatmeal, raisins, nuts, honey]   \n",
       "4  [cheddar_cheese, ground_beef, chili_powder, ch...   \n",
       "\n",
       "                                            p_subset  \n",
       "0                         [flour, eggs, milk, sugar]  \n",
       "1   [tomatoes, head_lettuce, feta_cheese, olive_oil]  \n",
       "2  [freshly_ground_black_pepper, mayonnaise, toma...  \n",
       "3                    [nuts, oatmeal, raisins, honey]  \n",
       "4        [cheddar_cheese, ground_beef, chili_powder]  "
      ]
     },
     "execution_count": 4,
     "metadata": {},
     "output_type": "execute_result"
    }
   ],
   "source": [
    "df[\"p_subset\"] = df[\"set\"].apply(lambda x: model.predict(x))\n",
    "df.head()"
   ]
  },
  {
   "cell_type": "code",
   "execution_count": 5,
   "metadata": {},
   "outputs": [
    {
     "data": {
      "text/html": [
       "<div>\n",
       "<style scoped>\n",
       "    .dataframe tbody tr th:only-of-type {\n",
       "        vertical-align: middle;\n",
       "    }\n",
       "\n",
       "    .dataframe tbody tr th {\n",
       "        vertical-align: top;\n",
       "    }\n",
       "\n",
       "    .dataframe thead th {\n",
       "        text-align: right;\n",
       "    }\n",
       "</style>\n",
       "<table border=\"1\" class=\"dataframe\">\n",
       "  <thead>\n",
       "    <tr style=\"text-align: right;\">\n",
       "      <th></th>\n",
       "      <th>set</th>\n",
       "      <th>subset</th>\n",
       "      <th>p_subset</th>\n",
       "      <th>IoU</th>\n",
       "      <th>OverlapCoefficient</th>\n",
       "    </tr>\n",
       "  </thead>\n",
       "  <tbody>\n",
       "    <tr>\n",
       "      <th>0</th>\n",
       "      <td>[flour, eggs, milk, cheese, sugar, mustard]</td>\n",
       "      <td>[flour, eggs, milk, sugar]</td>\n",
       "      <td>[flour, eggs, milk, sugar]</td>\n",
       "      <td>1.00</td>\n",
       "      <td>1.0</td>\n",
       "    </tr>\n",
       "    <tr>\n",
       "      <th>1</th>\n",
       "      <td>[tomatoes, head_lettuce, banana, feta_cheese, ...</td>\n",
       "      <td>[tomatoes, head_lettuce, feta_cheese, olive_oil]</td>\n",
       "      <td>[tomatoes, head_lettuce, feta_cheese, olive_oil]</td>\n",
       "      <td>1.00</td>\n",
       "      <td>1.0</td>\n",
       "    </tr>\n",
       "    <tr>\n",
       "      <th>2</th>\n",
       "      <td>[freshly_ground_black_pepper, hot_milk, mayonn...</td>\n",
       "      <td>[freshly_ground_black_pepper, mayonnaise, toma...</td>\n",
       "      <td>[freshly_ground_black_pepper, mayonnaise, toma...</td>\n",
       "      <td>1.00</td>\n",
       "      <td>1.0</td>\n",
       "    </tr>\n",
       "    <tr>\n",
       "      <th>3</th>\n",
       "      <td>[mushroom, nuts, oatmeal, vodka, raisins, sala...</td>\n",
       "      <td>[oatmeal, raisins, nuts, honey]</td>\n",
       "      <td>[nuts, oatmeal, raisins, honey]</td>\n",
       "      <td>1.00</td>\n",
       "      <td>1.0</td>\n",
       "    </tr>\n",
       "    <tr>\n",
       "      <th>4</th>\n",
       "      <td>[cheddar_cheese, ground_beef, chili_powder, ch...</td>\n",
       "      <td>[cheddar_cheese, ground_beef, chili_powder, ch...</td>\n",
       "      <td>[cheddar_cheese, ground_beef, chili_powder]</td>\n",
       "      <td>0.75</td>\n",
       "      <td>1.0</td>\n",
       "    </tr>\n",
       "  </tbody>\n",
       "</table>\n",
       "</div>"
      ],
      "text/plain": [
       "                                                 set  \\\n",
       "0        [flour, eggs, milk, cheese, sugar, mustard]   \n",
       "1  [tomatoes, head_lettuce, banana, feta_cheese, ...   \n",
       "2  [freshly_ground_black_pepper, hot_milk, mayonn...   \n",
       "3  [mushroom, nuts, oatmeal, vodka, raisins, sala...   \n",
       "4  [cheddar_cheese, ground_beef, chili_powder, ch...   \n",
       "\n",
       "                                              subset  \\\n",
       "0                         [flour, eggs, milk, sugar]   \n",
       "1   [tomatoes, head_lettuce, feta_cheese, olive_oil]   \n",
       "2  [freshly_ground_black_pepper, mayonnaise, toma...   \n",
       "3                    [oatmeal, raisins, nuts, honey]   \n",
       "4  [cheddar_cheese, ground_beef, chili_powder, ch...   \n",
       "\n",
       "                                            p_subset   IoU  OverlapCoefficient  \n",
       "0                         [flour, eggs, milk, sugar]  1.00                 1.0  \n",
       "1   [tomatoes, head_lettuce, feta_cheese, olive_oil]  1.00                 1.0  \n",
       "2  [freshly_ground_black_pepper, mayonnaise, toma...  1.00                 1.0  \n",
       "3                    [nuts, oatmeal, raisins, honey]  1.00                 1.0  \n",
       "4        [cheddar_cheese, ground_beef, chili_powder]  0.75                 1.0  "
      ]
     },
     "execution_count": 5,
     "metadata": {},
     "output_type": "execute_result"
    }
   ],
   "source": [
    "df[\"IoU\"] = df.apply(lambda x: IoU(x.subset, x.p_subset), axis=1)\n",
    "df[\"OverlapCoefficient\"] = df.apply(lambda x: OverlapCoefficient(x.subset, x.p_subset), axis=1)\n",
    "df.head()"
   ]
  },
  {
   "cell_type": "markdown",
   "metadata": {},
   "source": [
    "## IOU"
   ]
  },
  {
   "cell_type": "code",
   "execution_count": 6,
   "metadata": {},
   "outputs": [
    {
     "data": {
      "text/plain": [
       "0.7638760880696365"
      ]
     },
     "execution_count": 6,
     "metadata": {},
     "output_type": "execute_result"
    }
   ],
   "source": [
    "df.IoU.mean()"
   ]
  },
  {
   "cell_type": "markdown",
   "metadata": {},
   "source": [
    "## OVERLAP COEFFICINT"
   ]
  },
  {
   "cell_type": "code",
   "execution_count": 7,
   "metadata": {},
   "outputs": [
    {
     "data": {
      "text/plain": [
       "0.896415770609319"
      ]
     },
     "execution_count": 7,
     "metadata": {},
     "output_type": "execute_result"
    }
   ],
   "source": [
    "df.OverlapCoefficient.mean()"
   ]
  }
 ],
 "metadata": {
  "kernelspec": {
   "display_name": "Python 3",
   "language": "python",
   "name": "python3"
  },
  "language_info": {
   "codemirror_mode": {
    "name": "ipython",
    "version": 3
   },
   "file_extension": ".py",
   "mimetype": "text/x-python",
   "name": "python",
   "nbconvert_exporter": "python",
   "pygments_lexer": "ipython3",
   "version": "3.12.1"
  }
 },
 "nbformat": 4,
 "nbformat_minor": 2
}
