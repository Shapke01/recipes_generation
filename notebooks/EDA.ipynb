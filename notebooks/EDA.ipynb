{
 "cells": [
  {
   "cell_type": "markdown",
   "metadata": {
    "id": "gRPZlcU8BUhi"
   },
   "source": [
    "# Exploratory Data Analysis"
   ]
  },
  {
   "cell_type": "markdown",
   "metadata": {
    "id": "tod_PgVDBlij"
   },
   "source": [
    "## Packages"
   ]
  },
  {
   "cell_type": "code",
   "execution_count": 1,
   "metadata": {
    "id": "bYfrBcS3AjxY"
   },
   "outputs": [],
   "source": [
    "import re\n",
    "import pathlib\n",
    "from ast import literal_eval\n",
    "\n",
    "import numpy as np\n",
    "import pandas as pd\n",
    "\n",
    "import matplotlib.pyplot as plt"
   ]
  },
  {
   "cell_type": "code",
   "execution_count": 2,
   "metadata": {
    "id": "FhSZiUkwEed0"
   },
   "outputs": [],
   "source": [
    "import matplotlib\n",
    "matplotlib.style.use('tableau-colorblind10')\n",
    "plt.rcParams['font.size'] = 15"
   ]
  },
  {
   "cell_type": "markdown",
   "metadata": {
    "id": "5eBvIpkVCgIZ"
   },
   "source": [
    "## Constants"
   ]
  },
  {
   "cell_type": "code",
   "execution_count": 3,
   "metadata": {
    "id": "UT30S_8YCsJK"
   },
   "outputs": [],
   "source": [
    "DATASET_PATH = \"../data/raw/dataset.csv\""
   ]
  },
  {
   "cell_type": "markdown",
   "metadata": {
    "id": "QA7lx3bZBhN8"
   },
   "source": [
    "## Load Data"
   ]
  },
  {
   "cell_type": "markdown",
   "metadata": {
    "id": "4pGvE47X_wYH"
   },
   "source": [
    "### Dataset\n",
    "\n",
    "https://huggingface.co/datasets/recipe_nlg\n",
    "\n",
    "Columns\n",
    "\n",
    "* id (int): ID.\n",
    "* title (str): Title of the recipe.\n",
    "* ingredients (list of str): Ingredients.\n",
    "* directions (list of str): Instruction steps.\n",
    "* ner (list of str): NER food entities."
   ]
  },
  {
   "cell_type": "code",
   "execution_count": 4,
   "metadata": {
    "colab": {
     "base_uri": "https://localhost:8080/"
    },
    "id": "NL7LScWmAnjL",
    "outputId": "edc37318-d9b8-42b7-9ff3-c67272d8b335"
   },
   "outputs": [],
   "source": [
    "stripper = lambda x: x.strip(\"[]\").replace(\"'\",\"\").replace('\"','').split(\", \")\n",
    "dataset = pd.read_csv(DATASET_PATH, index_col=0, converters={\"directions\":stripper, \"ingredients\":stripper})"
   ]
  },
  {
   "cell_type": "markdown",
   "metadata": {
    "id": "VA8ONrE-1xZR"
   },
   "source": [
    "## Analysis"
   ]
  },
  {
   "cell_type": "code",
   "execution_count": 5,
   "metadata": {
    "colab": {
     "base_uri": "https://localhost:8080/"
    },
    "id": "gaBjlsouwscc",
    "outputId": "1e6d0bdf-cd59-4241-975f-6cb2e2a518a9"
   },
   "outputs": [
    {
     "name": "stdout",
     "output_type": "stream",
     "text": [
      "Total number of recipes: 2231142\n"
     ]
    }
   ],
   "source": [
    "print(f\"Total number of recipes: {len(dataset)}\")"
   ]
  },
  {
   "cell_type": "markdown",
   "metadata": {
    "id": "ClIVaaFH0oIi"
   },
   "source": [
    "Let us examine the number of ingredients per recipe:"
   ]
  },
  {
   "cell_type": "code",
   "execution_count": 6,
   "metadata": {
    "colab": {
     "base_uri": "https://localhost:8080/"
    },
    "id": "4M4eYYUDxDrx",
    "outputId": "e56a89d3-1fb2-418e-cc91-906314a9ea5b"
   },
   "outputs": [
    {
     "data": {
      "text/plain": [
       "count    2.231142e+06\n",
       "mean     8.480941e+00\n",
       "std      3.955155e+00\n",
       "min      1.000000e+00\n",
       "25%      6.000000e+00\n",
       "50%      8.000000e+00\n",
       "75%      1.000000e+01\n",
       "max      4.020000e+02\n",
       "Name: ingredients, dtype: float64"
      ]
     },
     "execution_count": 6,
     "metadata": {},
     "output_type": "execute_result"
    }
   ],
   "source": [
    "ingr_per_recipe = dataset[\"ingredients\"].apply(len)\n",
    "ingr_per_recipe.describe()"
   ]
  },
  {
   "cell_type": "markdown",
   "metadata": {
    "id": "FRf_qiMw0syX"
   },
   "source": [
    "And now see how many steps per recipe we have:"
   ]
  },
  {
   "cell_type": "code",
   "execution_count": 7,
   "metadata": {
    "colab": {
     "base_uri": "https://localhost:8080/"
    },
    "id": "wOP3pbyIxhc5",
    "outputId": "0f0244f7-b0e4-4e8c-c362-cc824b4349fb"
   },
   "outputs": [
    {
     "data": {
      "text/plain": [
       "count    2.231142e+06\n",
       "mean     1.138950e+01\n",
       "std      9.341517e+00\n",
       "min      1.000000e+00\n",
       "25%      5.000000e+00\n",
       "50%      9.000000e+00\n",
       "75%      1.500000e+01\n",
       "max      3.110000e+02\n",
       "Name: directions, dtype: float64"
      ]
     },
     "execution_count": 7,
     "metadata": {},
     "output_type": "execute_result"
    }
   ],
   "source": [
    "steps_per_recipe = dataset[\"directions\"].apply(len)\n",
    "steps_per_recipe.describe()"
   ]
  },
  {
   "cell_type": "code",
   "execution_count": 8,
   "metadata": {
    "colab": {
     "base_uri": "https://localhost:8080/",
     "height": 424
    },
    "id": "V7HgPMxHeEdb",
    "outputId": "31538e00-9e89-443a-dd86-6be80b8e1d11"
   },
   "outputs": [
    {
     "data": {
      "text/html": [
       "<div>\n",
       "<style scoped>\n",
       "    .dataframe tbody tr th:only-of-type {\n",
       "        vertical-align: middle;\n",
       "    }\n",
       "\n",
       "    .dataframe tbody tr th {\n",
       "        vertical-align: top;\n",
       "    }\n",
       "\n",
       "    .dataframe thead th {\n",
       "        text-align: right;\n",
       "    }\n",
       "</style>\n",
       "<table border=\"1\" class=\"dataframe\">\n",
       "  <thead>\n",
       "    <tr style=\"text-align: right;\">\n",
       "      <th></th>\n",
       "      <th>title</th>\n",
       "      <th>directions</th>\n",
       "      <th>ingredients</th>\n",
       "    </tr>\n",
       "  </thead>\n",
       "  <tbody>\n",
       "    <tr>\n",
       "      <th>0</th>\n",
       "      <td>No-Bake Nut Cookies</td>\n",
       "      <td>[In a heavy 2-quart saucepan, mix brown sugar,...</td>\n",
       "      <td>[brown sugar, milk, vanilla, nuts, butter, bit...</td>\n",
       "    </tr>\n",
       "    <tr>\n",
       "      <th>1</th>\n",
       "      <td>Jewell Ball'S Chicken</td>\n",
       "      <td>[Place chipped beef on bottom of baking dish.,...</td>\n",
       "      <td>[beef, chicken breasts, cream of mushroom soup...</td>\n",
       "    </tr>\n",
       "    <tr>\n",
       "      <th>2</th>\n",
       "      <td>Creamy Corn</td>\n",
       "      <td>[In a slow cooker, combine all ingredients. Co...</td>\n",
       "      <td>[frozen corn, cream cheese, butter, garlic pow...</td>\n",
       "    </tr>\n",
       "    <tr>\n",
       "      <th>3</th>\n",
       "      <td>Chicken Funny</td>\n",
       "      <td>[Boil and debone chicken., Put bite size piece...</td>\n",
       "      <td>[chicken, chicken gravy, cream of mushroom sou...</td>\n",
       "    </tr>\n",
       "    <tr>\n",
       "      <th>4</th>\n",
       "      <td>Reeses Cups(Candy)</td>\n",
       "      <td>[Combine first four ingredients and press in 1...</td>\n",
       "      <td>[peanut butter, graham cracker crumbs, butter,...</td>\n",
       "    </tr>\n",
       "    <tr>\n",
       "      <th>...</th>\n",
       "      <td>...</td>\n",
       "      <td>...</td>\n",
       "      <td>...</td>\n",
       "    </tr>\n",
       "    <tr>\n",
       "      <th>2231137</th>\n",
       "      <td>Sunny's Fake Crepes</td>\n",
       "      <td>[Spread hazelnut spread on 1 side of each tort...</td>\n",
       "      <td>[chocolate hazelnut spread, tortillas, butter,...</td>\n",
       "    </tr>\n",
       "    <tr>\n",
       "      <th>2231138</th>\n",
       "      <td>Devil Eggs</td>\n",
       "      <td>[Boil eggs on medium for 30mins., Then cool eg...</td>\n",
       "      <td>[eggs, paprika, salt, choice, miracle whip, re...</td>\n",
       "    </tr>\n",
       "    <tr>\n",
       "      <th>2231139</th>\n",
       "      <td>Extremely Easy and Quick - Namul Daikon Salad</td>\n",
       "      <td>[Julienne the daikon and squeeze out the exces...</td>\n",
       "      <td>[radish, Sesame oil, White sesame seeds, Salt,...</td>\n",
       "    </tr>\n",
       "    <tr>\n",
       "      <th>2231140</th>\n",
       "      <td>Pan-Roasted Pork Chops With Apple Fritters</td>\n",
       "      <td>[In a large bowl, mix the apple cider with 4 c...</td>\n",
       "      <td>[apple cider, sugar, kosher salt, bay leaves, ...</td>\n",
       "    </tr>\n",
       "    <tr>\n",
       "      <th>2231141</th>\n",
       "      <td>Polpette in Spicy Tomato Sauce</td>\n",
       "      <td>[Preheat the oven to 350., In a bowl, mix the ...</td>\n",
       "      <td>[ground veal, sausage, bread crumbs, milk, gar...</td>\n",
       "    </tr>\n",
       "  </tbody>\n",
       "</table>\n",
       "<p>2231142 rows × 3 columns</p>\n",
       "</div>"
      ],
      "text/plain": [
       "                                                 title  \\\n",
       "0                                  No-Bake Nut Cookies   \n",
       "1                                Jewell Ball'S Chicken   \n",
       "2                                          Creamy Corn   \n",
       "3                                        Chicken Funny   \n",
       "4                                 Reeses Cups(Candy)     \n",
       "...                                                ...   \n",
       "2231137                            Sunny's Fake Crepes   \n",
       "2231138                                     Devil Eggs   \n",
       "2231139  Extremely Easy and Quick - Namul Daikon Salad   \n",
       "2231140     Pan-Roasted Pork Chops With Apple Fritters   \n",
       "2231141                 Polpette in Spicy Tomato Sauce   \n",
       "\n",
       "                                                directions  \\\n",
       "0        [In a heavy 2-quart saucepan, mix brown sugar,...   \n",
       "1        [Place chipped beef on bottom of baking dish.,...   \n",
       "2        [In a slow cooker, combine all ingredients. Co...   \n",
       "3        [Boil and debone chicken., Put bite size piece...   \n",
       "4        [Combine first four ingredients and press in 1...   \n",
       "...                                                    ...   \n",
       "2231137  [Spread hazelnut spread on 1 side of each tort...   \n",
       "2231138  [Boil eggs on medium for 30mins., Then cool eg...   \n",
       "2231139  [Julienne the daikon and squeeze out the exces...   \n",
       "2231140  [In a large bowl, mix the apple cider with 4 c...   \n",
       "2231141  [Preheat the oven to 350., In a bowl, mix the ...   \n",
       "\n",
       "                                               ingredients  \n",
       "0        [brown sugar, milk, vanilla, nuts, butter, bit...  \n",
       "1        [beef, chicken breasts, cream of mushroom soup...  \n",
       "2        [frozen corn, cream cheese, butter, garlic pow...  \n",
       "3        [chicken, chicken gravy, cream of mushroom sou...  \n",
       "4        [peanut butter, graham cracker crumbs, butter,...  \n",
       "...                                                    ...  \n",
       "2231137  [chocolate hazelnut spread, tortillas, butter,...  \n",
       "2231138  [eggs, paprika, salt, choice, miracle whip, re...  \n",
       "2231139  [radish, Sesame oil, White sesame seeds, Salt,...  \n",
       "2231140  [apple cider, sugar, kosher salt, bay leaves, ...  \n",
       "2231141  [ground veal, sausage, bread crumbs, milk, gar...  \n",
       "\n",
       "[2231142 rows x 3 columns]"
      ]
     },
     "execution_count": 8,
     "metadata": {},
     "output_type": "execute_result"
    }
   ],
   "source": [
    "dataset"
   ]
  },
  {
   "cell_type": "markdown",
   "metadata": {
    "id": "C5_7Iy69znsa"
   },
   "source": [
    "Example outlier:"
   ]
  },
  {
   "cell_type": "code",
   "execution_count": 9,
   "metadata": {
    "colab": {
     "base_uri": "https://localhost:8080/"
    },
    "id": "CzokoCEcxqY4",
    "outputId": "7aa631c1-2f7a-4079-9b4d-a0f5e3f678c8",
    "scrolled": true
   },
   "outputs": [
    {
     "name": "stdout",
     "output_type": "stream",
     "text": [
      "The biggest number of recipe's steps: 311\n"
     ]
    },
    {
     "data": {
      "text/plain": [
       "['Trim 1 inch or more off the butt ends of the asparagus',\n",
       " 'leaving only the moist',\n",
       " 'tender part of the stalk.',\n",
       " 'Pare away the tough green skin from the base of the spear to the end of the stalk.',\n",
       " 'Remove any tiny leaves sprouting below the base of the tip.',\n",
       " 'Cut the trimmed asparagus into 2-inch lengths and wash in cold water.',\n",
       " 'Choose a lidded',\n",
       " 'shallow pan large enough to accommodate all the asparagus.',\n",
       " 'Put in 4 tablespoons of the butter',\n",
       " 'the water',\n",
       " 'a little salt',\n",
       " 'and the asparagus.',\n",
       " 'Cover and turn on the heat to medium.',\n",
       " 'Cook until the asparagus is tender',\n",
       " 'but firm.',\n",
       " 'If',\n",
       " 'when the asparagus is done',\n",
       " 'there is still liquid in the pan',\n",
       " 'uncover',\n",
       " 'raise the heat to high',\n",
       " 'and boil away the liquid while browning the asparagus lightly.',\n",
       " 'Cut up the ham and chop it in a food processor',\n",
       " 'but take care not to chop it too fine.',\n",
       " 'Add the asparagus to the processor bowl and run the processor very briefly once or twice.',\n",
       " 'The asparagus should be cut up into small pieces',\n",
       " 'but not blended to a creamy consistency.',\n",
       " 'Make the bechamel: Heat the milk over low heat until it forms a ring of pearly bubbles',\n",
       " 'but do not let it break into a boil.',\n",
       " 'While the milk is being heated',\n",
       " 'melt the butter in a separate pan over low heat.',\n",
       " 'When the butter melts',\n",
       " 'add the flour',\n",
       " 'stirring constantly with a wooden spoon.',\n",
       " 'When the flour has been wholly amalgamated with the butter',\n",
       " 'but before it becomes colored',\n",
       " 'remove from the heat.',\n",
       " 'Add 2 tablespoons of milk at a time to the flour and butter mixture',\n",
       " 'stirring steadily and thoroughly.',\n",
       " 'Add 2 more tablespoons of milk when the first 2 have been incorporated smoothly and evenly into the butter and flour.',\n",
       " 'Stir and repeat the operation until you have put in 8 tablespoons of milk.',\n",
       " 'At this point you can add the milk 1/2 cup at a time',\n",
       " 'always stirring steadily to obtain a homogeneous mixture.',\n",
       " 'When all the milk has been worked in',\n",
       " 'place the pan over low heat',\n",
       " 'add the pinch of salt',\n",
       " 'and stir without interruption until the bechamel is as dense as a thick cream.',\n",
       " 'Put the chopped asparagus and ham in a bowl',\n",
       " 'add half the bechamel',\n",
       " '2/3 cup of the grated cheese',\n",
       " 'and the nutmeg.',\n",
       " 'Mix well.',\n",
       " 'Knead the dough for the pasta and thin it out',\n",
       " 'stopping at the next to last setting on the machine',\n",
       " 'as described below.',\n",
       " 'Cut the pasta strips into 5- to 6-inch-long rectangles',\n",
       " 'leaving them as wide as they come from the machine.',\n",
       " 'Parboil them',\n",
       " 'rinse them',\n",
       " 'and spread on dry cloth towels.',\n",
       " 'Turn on the oven to 450.',\n",
       " 'Choose a baking pan large enough (about to by 12 inches) to contain all the cannelloni snugly in a single layer.',\n",
       " 'Smear the bottom generously with butter.',\n",
       " 'Spread 1 tablespoon of bechamel on a plate.',\n",
       " 'Place a rectangle of pasta over the bechamel',\n",
       " 'rotating it lightly so that its underside becomes coated.',\n",
       " 'Over the pastas top side spread about 1 1/2 tablespoons of the asparagus mixture',\n",
       " 'thinning it evenly',\n",
       " 'but stopping just short of the edge of the pasta.',\n",
       " 'Roll up the pasta softly',\n",
       " 'jelly-roll fashion',\n",
       " 'to form a cannellone.',\n",
       " 'Place the cannellone in the pan',\n",
       " 'with the overlapping edge facing down.',\n",
       " 'Repeat the operation',\n",
       " 'laying the cannelloni snugly side to side',\n",
       " 'until all the cannelloni are done.',\n",
       " 'From time to time',\n",
       " 'smear more bechamel over the bottom of the plate',\n",
       " 'as necessary',\n",
       " 'but take care not to use up all the bechamel.',\n",
       " 'When all the cannelloni are in the pan',\n",
       " 'spread the remaining bechamel over them',\n",
       " 'forcing some of the sauce into the spaces between the cannelloni.',\n",
       " 'Sprinkle with the remaining 1/3 cup of grated cheese and dot with the leftover 2 tablespoons of butter.',\n",
       " 'Place the pan in the uppermost level of the preheated oven and bake for 15 to 20 minutes',\n",
       " 'until a golden brown crust forms on top.',\n",
       " 'Allow to settle for 5 to 8 minutes before serving.',\n",
       " 'To serve',\n",
       " 'do not cut into the cannelloni',\n",
       " 'but loosen them',\n",
       " 'one from the other',\n",
       " 'with a spatula.',\n",
       " 'Making Pasta at Home by Machine',\n",
       " 'THE FLOUR',\n",
       " 'As Elizabeth David has demonstrated magnificently',\n",
       " 'one can write a volume about varieties of flour.',\n",
       " 'When we focus on Italian cooking',\n",
       " 'however',\n",
       " 'and specifically on pasta',\n",
       " 'we limit our field to two basic kinds: soft-wheat',\n",
       " 'unbleached',\n",
       " 'all-purpose flour and durum or hard-wheat flour',\n",
       " 'also known as semolina or',\n",
       " 'in Italian',\n",
       " 'semola.',\n",
       " 'The first is white',\n",
       " 'the second pale yellow.',\n",
       " 'Each of the two varieties has its virtues and drawbacks.',\n",
       " 'For the classic pasta of Bologna',\n",
       " 'stretched by hand with a rolling pin',\n",
       " 'only soft-wheat flour is used.',\n",
       " 'It is lower in gluten than semolina',\n",
       " 'hence it is easier to hand stretch.',\n",
       " 'Soft wheat has a gentler',\n",
       " 'warmer fragrance than that of semolinas',\n",
       " 'which is faintly sharp.',\n",
       " 'The sweet-smelling pasta it produces is plumper in body and of a fluffier consistency than any made with durum wheat flour.',\n",
       " 'On the other hand',\n",
       " 'it requires utmost heedfulness in the cooking',\n",
       " 'because it can quickly pass that dangerous line from firm to overdone.',\n",
       " 'Semolina has so much tough gluten that it is next to impossible to stretch by hand in the Bolognese manner.',\n",
       " 'It is more suitable for flat pasta compressed by a non-extruding home machine or for such industrially extruded shapes as spaghetti or fusilli.',\n",
       " 'Pasta made with semolina flour is never as downy as the soft-wheat kind',\n",
       " 'but it makes up for it with a body tautly knit and admirably compact.',\n",
       " 'It accepts an extraordinary variety of sauces and cooks to a perfect al dente',\n",
       " 'firm-to-the-bite consistency.',\n",
       " 'When buying semolina one must look out for flour that is ground too coarse.',\n",
       " 'Unfortunately much of it is',\n",
       " 'including some brands that are sold as pasta flour.',\n",
       " 'It should be talcum soft to the touch and impalpable',\n",
       " 'like other flour; otherwise it will be difficult to work with.',\n",
       " 'At home I use semolina when I want extra firmness',\n",
       " 'such as in tonnarelli.',\n",
       " 'More frequently I use all-purpose',\n",
       " 'unbleached flour',\n",
       " 'which makes pasta closer to that made at home in Bologna.',\n",
       " 'The choice',\n",
       " 'however',\n",
       " 'depends on ones preferences.',\n",
       " 'Both flours make equally valid pasta.',\n",
       " 'THE DOUGH',\n",
       " 'INGREDIENTS.',\n",
       " 'The dough for homemade pasta consists of flour and eggs',\n",
       " 'nothing else.',\n",
       " 'The only exception is when spinach or Swiss chard leaves are added to the basic egg and flour dough to make green pasta.',\n",
       " 'Olive oil',\n",
       " 'salt',\n",
       " 'colorings',\n",
       " 'seasonings have no gastronomic reason for being in pasta.',\n",
       " 'Some',\n",
       " 'such as olive oil that makes pasta slicker',\n",
       " 'are wholly undesirable and a detriment to good pasta.',\n",
       " 'If one respects the freshness and immediacy of the Italian approach to cooking',\n",
       " 'one puts all flavors and seasonings in the sauce.',\n",
       " 'PROPORTIONS.',\n",
       " 'Use 1 cup of flour with 2 large eggs to produce approximately 3/4 pound of pasta.',\n",
       " 'The exact ratio',\n",
       " 'however',\n",
       " 'will vary depending on the size of the eggs',\n",
       " 'their flour absorption capacity',\n",
       " 'even on the humidity of the environment.',\n",
       " 'COMBINING THE EGGS AND FLOUR.',\n",
       " 'Since you can never tell in advance exactly how much flour you will need',\n",
       " 'do not mix the flour and eggs in a bowl.',\n",
       " 'You may find you want to use less flour than you thought.',\n",
       " 'Pour the flour onto a work surface',\n",
       " 'shape it into a mound',\n",
       " 'scooping out a deep hollow in its center.',\n",
       " 'Break the eggs into the hollow.',\n",
       " 'Beat the eggs lightly with a fork as though you were making an omelet.',\n",
       " 'Draw some of the flour over the eggs',\n",
       " 'mixing it',\n",
       " 'a little at a time',\n",
       " 'until the eggs are no longer runny.',\n",
       " 'Draw the sides of the mound together',\n",
       " 'pushing to one side any flour you think you may not use.',\n",
       " 'Work the mixture of flour and eggs with your fingers and the palms of your hands until it is well amalgamated.',\n",
       " 'If it is still too moist',\n",
       " 'work in more flour as needed.',\n",
       " 'Put the egg and flour mass to one side and scrape the work surface clean of all loose or caked bits of flour and of any crumbs of dough.',\n",
       " 'Wash your hands and dry them.',\n",
       " 'You are now ready to knead.',\n",
       " 'MAKING SPINACH DOUGH.',\n",
       " 'For approximately 1 pound of green pasta',\n",
       " 'use 2 large eggs',\n",
       " 'approximately 1 1/2 cups flour',\n",
       " 'and either 1/2 pound fresh spinach or half a 10-ounce package frozen leaf spinach.',\n",
       " 'If using fresh spinach',\n",
       " 'trim away all the stems and wash the leaves in several changes of cold water to remove every trace of soil.',\n",
       " 'Cook it in a covered pan over medium heat with only the water that clings to the leaves and with 1/4 teaspoon of salt to keep its color bright.',\n",
       " 'Cook until tender',\n",
       " '15 minutes or more',\n",
       " 'drain',\n",
       " 'and let cool.',\n",
       " 'If using frozen leaf spinach',\n",
       " 'cook it in a covered pan with 1/4 teaspoon of salt until tender.',\n",
       " 'Drain and let cool.',\n",
       " 'Squeeze all the liquid out of the cooked spinach with your hands',\n",
       " 'then chop it very fine.',\n",
       " 'Follow the directions given for combining eggs and flour; beat the chopped spinach into the eggs in the well of flour before drawing any flour over them.',\n",
       " 'KNEADING THE DOUGH.',\n",
       " 'Kneading dough may be the single most important step in making good pasta.',\n",
       " 'It is best done by hand',\n",
       " 'which takes no more',\n",
       " 'and possibly less',\n",
       " 'time and effort than with a machine',\n",
       " 'if you include the work required to clean the machine.',\n",
       " 'Return to the egg and flour mass you had set aside.',\n",
       " 'Push against it with the heel of your palm',\n",
       " 'keeping your fingers bent',\n",
       " 'fold it in half',\n",
       " 'give it a half turn',\n",
       " 'press hard again',\n",
       " 'and proceed thus for at least 8 minutes',\n",
       " 'pressing',\n",
       " 'folding',\n",
       " 'turning.',\n",
       " 'If you are not sure that you have put in enough flour',\n",
       " 'push a finger into the dough as far as its center.',\n",
       " 'It should come out clean and dry.',\n",
       " 'If it is moist or there are bits of dough stuck to the finger',\n",
       " 'work in what additional flour you judge the dough needs.',\n",
       " 'Unless you are ready to run the dough through the machine immediately',\n",
       " 'wrap it airtight in plastic wrap.',\n",
       " 'Do not refrigerate it',\n",
       " 'but be ready to proceed with making the pasta within 2 or 3 hours at most.',\n",
       " 'THE MACHINE',\n",
       " 'THE TWO ADMISSIBLE KINDS.',\n",
       " 'The basic pasta machine has paired steel rollers of two types: one is smooth and serves to compress and thin out the dough; the second set has parallel grooves that can cut the flattened dough into ribbons.',\n",
       " 'Of this last set there are always two different pairs',\n",
       " 'a broad-grooved one that produces fettuccine and a narrower one that makes tagliolini.',\n",
       " 'A movable handle can be inserted into different positions depending which of the rollers is to be turned.',\n",
       " 'Less common now than it was before the introduction of the wretched extruding machines is the electric machine made by Bialetti.',\n",
       " 'It works on the same principle as the hand-cranked version',\n",
       " 'over which it has two major advantages: the rollers are of plastic material with a gritty surface that makes pasta with a livelier texture and better sauce-absorbing qualities; it is electrically driven and faster so that it is both easier to use and kinder to the dough',\n",
       " 'which wants to be worked as rapidly as possible.',\n",
       " 'No other kinds of machines than these two are suitable for making pasta at home.',\n",
       " 'Those who already own a hand-operated machine can now buy an ingenious little motor that replaces the crank',\n",
       " 'converting any hand-turned machine into an electrically driven one.',\n",
       " 'ROLLING OUT THE DOUGH WITH THE MACHINE.',\n",
       " 'Flattening a ball of dough into a thin sheet is the pasta machines primary function.',\n",
       " 'To perform it',\n",
       " 'it has several settings that bring the thinning rollers gradually closer together.',\n",
       " 'Thinning the dough can be compared to reaching the sidewalk from a buildings sixth story.',\n",
       " 'The fastest way is to jump',\n",
       " 'but you will be a mass of shattered bones.',\n",
       " 'One of the reasons that pasta made by shops is generally so mediocre is that the dough is flattened all at one time',\n",
       " 'rather than step by step: its body is smashed',\n",
       " 'its vital sinew broken',\n",
       " 'it is inert.',\n",
       " 'Walking down the steps is one safe way: it corresponds to the heedful use of the machines graduated thinning notches.',\n",
       " 'Even less jarring would be to take the elevator: in making pasta',\n",
       " 'that would be the hand-stretched method.',\n",
       " 'If you are thinning a ball of dough made with 2 eggs',\n",
       " 'divide it into 4 equal parts',\n",
       " 'or proportionally more parts if it is a larger amount.',\n",
       " 'Cover the counter beside the machine with clean',\n",
       " 'dry',\n",
       " 'cloth kitchen towels.',\n",
       " 'Set the thinning rollers at their maximum opening.',\n",
       " 'Flatten 1 of the pieces of dough with your open hand and run it through the machine.',\n",
       " 'Fold it in thirds',\n",
       " 'give it a quarter turn',\n",
       " 'and pass it through the machine again.',\n",
       " 'Repeat the operation 2 or 3 times',\n",
       " 'then lay the flattened pasta strip on the towels.',\n",
       " 'Take another piece of dough and flatten it as described above.',\n",
       " 'Lay it next to the previously flattened strip on the towel',\n",
       " 'but do not let them overlap or touch.',\n",
       " 'When all the dough has been flattened you can begin to thin it progressively.',\n",
       " 'Close the opening of the rollers one notch and run the first of the flattened strips through it once.',\n",
       " 'Do not fold it',\n",
       " 'but lay it flat on the towel.',\n",
       " 'Repeat the procedure with all the other flattened pasta strips.',\n",
       " 'When all are done',\n",
       " 'close the opening down another notch and thin all the strips again as has just been described.',\n",
       " 'Continue thinning the pasta one notch at a time until it reaches the desired thinness.',\n",
       " '(Note: If you are making stuffed pasta',\n",
       " 'and you work slowly',\n",
       " 'take each piece of dough all the way through the thinning process',\n",
       " 'stuff it',\n",
       " 'then do the next piece.',\n",
       " 'Keep the dough waiting to be thinned wrapped in plastic wrap.)',\n",
       " 'CUTTING THE PASTA.',\n",
       " 'If you are making lasagne',\n",
       " 'cannelloni',\n",
       " 'and any stuffed pasta',\n",
       " 'use the pasta immediately',\n",
       " 'as described in the appropriate recipe.',\n",
       " 'For any pasta that encloses a stuffing',\n",
       " 'such as tortelli',\n",
       " 'tortellini',\n",
       " 'raviolini',\n",
       " 'the pasta must be cut and stuffed as soon as it is made',\n",
       " 'while it is still soft and sticky.',\n",
       " 'Its softness makes it easier to shape and the stickiness is necessary to produce a tight seal',\n",
       " 'preventing the stuffing from spilling out during the cooking.',\n",
       " 'For any kind of noodle',\n",
       " 'however',\n",
       " 'allow the strips to dry on the towels for 10 minutes or more',\n",
       " 'depending on the temperature and air circulation of your kitchen.',\n",
       " 'Turn the strips over from time to time.',\n",
       " 'The pasta is ready when it is still soft and pliant enough that it wont crack when cut',\n",
       " 'but not so moist that the noodles will stick to each other.',\n",
       " 'Use the broad cutters on the machine to make fettuccine',\n",
       " 'and the narrower ones to make tagliolini.',\n",
       " 'Tagliatelle',\n",
       " 'the classic Bolognese noodle',\n",
       " 'is slightly broader than fettuccine.',\n",
       " 'If you are set on duplicating the Bolognese model',\n",
       " 'the pasta strips must be rolled up loosely and cut by hand into 1/4-inch-wide ribbons.']"
      ]
     },
     "execution_count": 9,
     "metadata": {},
     "output_type": "execute_result"
    }
   ],
   "source": [
    "print(f\"The biggest number of recipe's steps: {steps_per_recipe.max()}\")\n",
    "dataset.iloc[steps_per_recipe.argmax()].directions"
   ]
  },
  {
   "cell_type": "code",
   "execution_count": 10,
   "metadata": {
    "colab": {
     "base_uri": "https://localhost:8080/"
    },
    "id": "OLHne5vQ2l-8",
    "outputId": "41f55aa4-e8b4-49d6-d8e2-f9590e5a6840",
    "scrolled": true
   },
   "outputs": [
    {
     "name": "stdout",
     "output_type": "stream",
     "text": [
      "The biggest number of recipe's ingredients: 402\n"
     ]
    },
    {
     "data": {
      "text/plain": [
       "['chopped meat',\n",
       " 'egg',\n",
       " 'bread crumbs',\n",
       " 'ketchup',\n",
       " 'salt',\n",
       " 'pepper',\n",
       " 'potatoes',\n",
       " 'ham end',\n",
       " 'milk',\n",
       " 'bread crumbs',\n",
       " 'butter',\n",
       " 'ham steak',\n",
       " 'celery',\n",
       " 'mayonnaise',\n",
       " 'chicken soup',\n",
       " 'lemon juice',\n",
       " 'eggs',\n",
       " 'mushroom stems',\n",
       " 'walnuts',\n",
       " 'butter',\n",
       " 'stuffing mix',\n",
       " 'corn bread',\n",
       " 'ground ham',\n",
       " 'Cheddar cheese soup',\n",
       " 'bread crumbs',\n",
       " 'onion soup mix',\n",
       " 'butter',\n",
       " 'flour',\n",
       " 'salt',\n",
       " 'boneless veal',\n",
       " 'paprika',\n",
       " 'chicken broth',\n",
       " 'mushrooms',\n",
       " 'onions',\n",
       " 'steak sauce',\n",
       " 'hot buttered noodles',\n",
       " 'beef',\n",
       " 'ditalini macaroni',\n",
       " 'garbanzo beans',\n",
       " 'chicken',\n",
       " 'sour cream',\n",
       " 'Cheddar cheese soup',\n",
       " 'oregano',\n",
       " 'garlic powder',\n",
       " 'salt',\n",
       " 'black pepper',\n",
       " 'soy sauce',\n",
       " 'beef',\n",
       " 'eggs',\n",
       " 'Italian style bread crumbs',\n",
       " 'Parmesan cheese',\n",
       " 'oregano',\n",
       " 'spaghetti sauce',\n",
       " 'sweet Italian sausage',\n",
       " 'instant rice',\n",
       " 'chicken broth',\n",
       " 'shrimp',\n",
       " 'sausage',\n",
       " 'green pepper',\n",
       " 'celery',\n",
       " 'onions',\n",
       " 'tomatoes',\n",
       " 'tomato soup',\n",
       " 'pepper sauce',\n",
       " 'black pepper',\n",
       " 'salt',\n",
       " 'garlic powder',\n",
       " 'bulk sweet sausage',\n",
       " 'spaghetti sauce',\n",
       " 'condensed cream',\n",
       " 'green pepper',\n",
       " 'onion',\n",
       " 'noodles',\n",
       " 'eggplant',\n",
       " 'olive oil',\n",
       " 'Parmesan cheese',\n",
       " 'Mozzarella cheese',\n",
       " 'head cabbage',\n",
       " 'salt',\n",
       " 'pepper',\n",
       " 'mix',\n",
       " 'onion soup mix',\n",
       " 'instant rice',\n",
       " 'tomato soup',\n",
       " 'water',\n",
       " 'beef',\n",
       " 'onion',\n",
       " 'bread crumbs',\n",
       " 'egg',\n",
       " 'Parmesan cheese',\n",
       " 'milk',\n",
       " 'garlic powder',\n",
       " 'salt',\n",
       " 'pepper',\n",
       " 'olive oil',\n",
       " 'chicken gravy',\n",
       " 'sour cream',\n",
       " 'paprika',\n",
       " 'ground chuck',\n",
       " 'bread crumbs',\n",
       " 'egg',\n",
       " 'green onions',\n",
       " 'spaghetti sauce',\n",
       " 'black pepper',\n",
       " 'corn',\n",
       " 'onion soup',\n",
       " 'green peppers',\n",
       " 'ground lamb',\n",
       " 'instant rice',\n",
       " 'cream of mushroom soup',\n",
       " 'Salad Supreme seasoning',\n",
       " 'spaghetti sauce',\n",
       " 'lean ground beef',\n",
       " 'onion',\n",
       " 'kidney beans',\n",
       " 'salsa',\n",
       " 'chili powder',\n",
       " 'thin',\n",
       " 'mushrooms',\n",
       " 'butter',\n",
       " 'onion soup',\n",
       " 'soy sauce',\n",
       " 'flour',\n",
       " 'milk',\n",
       " 'water',\n",
       " 'green peppers',\n",
       " 'pork cutlets',\n",
       " 'cooking oil',\n",
       " 'Accent',\n",
       " 'garlic',\n",
       " 'black pepper',\n",
       " 'green pepper',\n",
       " 'onion',\n",
       " 'celery',\n",
       " 'tomatoes',\n",
       " 'tomato sauce',\n",
       " 'basil',\n",
       " 'sauerkraut',\n",
       " 'spareribs',\n",
       " 'apples',\n",
       " 'onion soup mix',\n",
       " 'caraway seed',\n",
       " 'salt',\n",
       " 'pepper',\n",
       " 'sugar',\n",
       " 'brisket',\n",
       " 'chili sauce',\n",
       " 'onion soup mix',\n",
       " 'sauerkraut',\n",
       " 'noodles',\n",
       " 'condensed cream',\n",
       " 'dry mustard',\n",
       " 'mayonnaise',\n",
       " 'onions',\n",
       " 'corned beef',\n",
       " 'Swiss cheese',\n",
       " 'rye bread',\n",
       " 'water',\n",
       " 'super lean ground beef',\n",
       " 'olive oil',\n",
       " 'meat',\n",
       " 'tomato sauce',\n",
       " 'rigatoni',\n",
       " 'oregano',\n",
       " 'salt',\n",
       " 'garlic powder',\n",
       " 'onion powder',\n",
       " 'black pepper',\n",
       " 'cheese',\n",
       " 'Mozzarella cheese',\n",
       " 'Parmesan cheese',\n",
       " 'chicken',\n",
       " 'egg',\n",
       " 'milk',\n",
       " 'salt',\n",
       " 'pepper',\n",
       " 'garlic',\n",
       " 'corn flakes',\n",
       " 'potato pancake mix',\n",
       " 'eggs',\n",
       " 'water',\n",
       " 'salmon',\n",
       " 'green onion',\n",
       " 'parsley',\n",
       " 'garlic powder',\n",
       " 'pepper',\n",
       " 'cooking oil',\n",
       " 'butter',\n",
       " 'lemon juice',\n",
       " 'Italian seasoned bread crumbs',\n",
       " 'American cheese',\n",
       " 'fettucini',\n",
       " 'butter',\n",
       " 'garlic',\n",
       " 'freshly ground black pepper',\n",
       " 'salad style',\n",
       " 'Parmesan cheese',\n",
       " 'shrimp',\n",
       " 'scallops',\n",
       " 'crab meat',\n",
       " 'mushrooms',\n",
       " 'butter',\n",
       " 'heavy cream',\n",
       " 'sherry',\n",
       " 'Cheddar cheese',\n",
       " 'Worcestershire sauce',\n",
       " 'garlic powder',\n",
       " 'flour',\n",
       " 'bread crumbs',\n",
       " 'pastry shells',\n",
       " 'chicken breasts',\n",
       " 'egg yolks',\n",
       " 'water',\n",
       " 'flour',\n",
       " 'sesame oil',\n",
       " 'soy sauce',\n",
       " 'honey',\n",
       " 'sweet and',\n",
       " 'sesame seed',\n",
       " 'shrimp',\n",
       " 'butter',\n",
       " 'garlic',\n",
       " 'bread crumbs',\n",
       " 'oregano',\n",
       " 'spaghetti',\n",
       " 'butter',\n",
       " 'Parmesan cheese',\n",
       " 'eggs',\n",
       " 'cottage cheese',\n",
       " 'beef',\n",
       " 'onion',\n",
       " 'green pepper',\n",
       " 'tomatoes',\n",
       " 'tomato sauce',\n",
       " 'oregano',\n",
       " 'garlic powder',\n",
       " 'Mozzarella cheese',\n",
       " 'lasagna noodles',\n",
       " 'olive oil',\n",
       " 'ground beef',\n",
       " 'onion',\n",
       " 'tomato paste',\n",
       " 'tomato sauce',\n",
       " 'basil',\n",
       " 'parsley',\n",
       " 'sugar',\n",
       " 'salt',\n",
       " 'oregano',\n",
       " 'garlic salt',\n",
       " 'pepper',\n",
       " 'Ricotta',\n",
       " 'Mozzarella',\n",
       " 'salt',\n",
       " 'pepper',\n",
       " 'boneless pork',\n",
       " 'soy sauce',\n",
       " 'ginger',\n",
       " 'Japanese style vegetables',\n",
       " 'mein noodles',\n",
       " 'green peppers',\n",
       " 'beef',\n",
       " 'eggs',\n",
       " 'instant rice',\n",
       " 'grated cheese',\n",
       " 'black pepper',\n",
       " 'garlic powder',\n",
       " 'oregano',\n",
       " 'spaghetti sauce',\n",
       " 'jumbo shells',\n",
       " 'ground beef',\n",
       " 'onion',\n",
       " 'egg',\n",
       " 'bread crumbs',\n",
       " 'Parmesan cheese',\n",
       " 'salt',\n",
       " 'pepper',\n",
       " 'spaghetti sauce',\n",
       " 'zucchini',\n",
       " 'olive oil',\n",
       " 'beef',\n",
       " 'onion',\n",
       " 'oregano',\n",
       " 'garlic powder',\n",
       " 'chicken flavored rice pilaf mix',\n",
       " 'spaghetti sauce',\n",
       " 'Parmesan cheese',\n",
       " 'cooking oil',\n",
       " 'garlic powder',\n",
       " 'boneless pork',\n",
       " 'onion',\n",
       " 'green pepper',\n",
       " 'red pepper',\n",
       " 'pineapple',\n",
       " 'honey',\n",
       " 'soy sauce',\n",
       " 'cider vinegar',\n",
       " 'cornstarch',\n",
       " 'mein noodles',\n",
       " 'wide noodles',\n",
       " 'Cheddar cheese soup',\n",
       " 'milk',\n",
       " 'milk',\n",
       " 'butter',\n",
       " 'solid white tuna',\n",
       " 'sweet red pepper',\n",
       " 'sweet peas',\n",
       " 'mustard',\n",
       " 'black pepper',\n",
       " 'onions',\n",
       " 'onions',\n",
       " 'butter',\n",
       " 'tuna',\n",
       " 'Cheddar',\n",
       " 'baking mix',\n",
       " 'milk',\n",
       " 'seafood seasoning',\n",
       " 'eggs',\n",
       " 'tomatoes',\n",
       " 'frozen green peas',\n",
       " 'milk',\n",
       " 'turkey',\n",
       " 'mushrooms',\n",
       " 'butter',\n",
       " 'Parmesan cheese',\n",
       " 'garlic powder',\n",
       " 'black pepper',\n",
       " 'Helper',\n",
       " 'chicken',\n",
       " 'olive oil',\n",
       " 'green peppers',\n",
       " 'red pepper',\n",
       " 'green onions',\n",
       " 'mushrooms',\n",
       " 'spaghetti sauce',\n",
       " 'Parmesan cheese',\n",
       " 'oregano',\n",
       " 'zucchini',\n",
       " 'olive oil',\n",
       " 'spaghetti sauce',\n",
       " 'beef',\n",
       " 'onion',\n",
       " 'oregano',\n",
       " 'garlic powder',\n",
       " 'chicken flavored rice pilaf mix',\n",
       " 'Mozzarella cheese',\n",
       " 'Parmesan cheese',\n",
       " 'fresh asparagus spears',\n",
       " 'cream of asparagus soup',\n",
       " 'sour cream',\n",
       " 'onions',\n",
       " 'frozen cauliflower',\n",
       " 'onion',\n",
       " 'condensed mushroom soup',\n",
       " 'Cheddar cheese',\n",
       " 'almonds',\n",
       " 'broccoli',\n",
       " 'water',\n",
       " 'salt',\n",
       " 'broccoli cheese soup',\n",
       " 'water',\n",
       " 'sour cream',\n",
       " 'onions',\n",
       " 'frozen carrots',\n",
       " 'butter',\n",
       " 'tomato sauce',\n",
       " 'sugar',\n",
       " 'green onion',\n",
       " 'green pepper',\n",
       " 'celery',\n",
       " 'frozen cauliflower',\n",
       " 'butter',\n",
       " 'bread crumbs',\n",
       " 'sherry',\n",
       " 'grated cheese',\n",
       " 'frozen cauliflower',\n",
       " 'cream of mushroom soup',\n",
       " 'sour cream',\n",
       " 'milk',\n",
       " 'black pepper',\n",
       " 'garlic powder',\n",
       " 'Parmesan cheese',\n",
       " 'onions',\n",
       " 'fresh asparagus',\n",
       " 'sesame seed',\n",
       " 'butter',\n",
       " 'sesame oil',\n",
       " 'soy sauce',\n",
       " 'bacon',\n",
       " 'green onions',\n",
       " 'carrots',\n",
       " 'water',\n",
       " 'shredded lettuce',\n",
       " 'parsley flakes',\n",
       " 'salt',\n",
       " 'garlic powder',\n",
       " 'pepper',\n",
       " 'butter',\n",
       " 'onions',\n",
       " 'cabbage',\n",
       " 'salt',\n",
       " 'pepper',\n",
       " 'chicken bouillon cubes']"
      ]
     },
     "execution_count": 10,
     "metadata": {},
     "output_type": "execute_result"
    }
   ],
   "source": [
    "print(f\"The biggest number of recipe's ingredients: {ingr_per_recipe.max()}\")\n",
    "dataset.iloc[ingr_per_recipe.argmax()].ingredients"
   ]
  },
  {
   "cell_type": "markdown",
   "metadata": {
    "id": "Lu6xrywP1UzV"
   },
   "source": [
    "### Filtering"
   ]
  },
  {
   "cell_type": "markdown",
   "metadata": {},
   "source": [
    "We will filter out the recipes having many steps or ingredients."
   ]
  },
  {
   "cell_type": "code",
   "execution_count": 11,
   "metadata": {
    "colab": {
     "base_uri": "https://localhost:8080/"
    },
    "id": "CSqEROo-41A3",
    "outputId": "e2f71811-bc96-4b3c-c883-702932350d4f"
   },
   "outputs": [],
   "source": [
    "dataset = dataset[dataset[\"directions\"].apply(len) <= 15]\n",
    "dataset = dataset[dataset[\"ingredients\"].apply(len) <= 20]\n",
    "\n",
    "dataset.reset_index(inplace=True, drop=True)"
   ]
  },
  {
   "cell_type": "code",
   "execution_count": 12,
   "metadata": {
    "colab": {
     "base_uri": "https://localhost:8080/"
    },
    "id": "JhdY6HC0z-9i",
    "outputId": "00b2dfa1-dc04-478d-d0db-83b929782ebd"
   },
   "outputs": [
    {
     "name": "stdout",
     "output_type": "stream",
     "text": [
      "Number of recipes after filtering: 1729362\n"
     ]
    }
   ],
   "source": [
    "print(f\"Number of recipes after filtering: {len(dataset)}\")"
   ]
  },
  {
   "cell_type": "markdown",
   "metadata": {
    "id": "Q5LUzafnDpw-"
   },
   "source": [
    "### 10 most common ingredients"
   ]
  },
  {
   "cell_type": "code",
   "execution_count": 13,
   "metadata": {
    "colab": {
     "base_uri": "https://localhost:8080/",
     "height": 512
    },
    "id": "pE1k27aZ_OCv",
    "outputId": "09db7cd6-bb7f-412a-82eb-04ddd1df277b"
   },
   "outputs": [
    {
     "data": {
      "image/png": "[encoded data removed]",
      "text/plain": [
       "<Figure size 640x480 with 1 Axes>"
      ]
     },
     "metadata": {},
     "output_type": "display_data"
    }
   ],
   "source": [
    "vcs = dataset[\"ingredients\"].explode().value_counts()\n",
    "\n",
    "vcs[:10].plot(\n",
    "    kind='bar',\n",
    "    ylabel= \"Number of occurences\",\n",
    "    title = \"10 most common ingredients\")\n",
    "plt.show()"
   ]
  },
  {
   "cell_type": "code",
   "execution_count": 14,
   "metadata": {
    "colab": {
     "base_uri": "https://localhost:8080/"
    },
    "id": "f3qX_Sr0HM14",
    "outputId": "f4f17c96-9ade-4e67-f025-abacc2ffa2c5"
   },
   "outputs": [
    {
     "name": "stdout",
     "output_type": "stream",
     "text": [
      "The total number of varius ingredients is 167968\n"
     ]
    }
   ],
   "source": [
    "print(f\"The total number of varius ingredients is {len(set(vcs.index))}\")"
   ]
  },
  {
   "cell_type": "markdown",
   "metadata": {
    "id": "KlN4amsLoD5z"
   },
   "source": [
    "Furthermore, we will filter out the recipes that contain rare ingredients. A rare ingredient is an ingredient that has been used less than 5 times among all recipes"
   ]
  },
  {
   "cell_type": "code",
   "execution_count": 15,
   "metadata": {
    "id": "OXRy82Soitj9"
   },
   "outputs": [],
   "source": [
    "selected_ingredients = set(vcs[vcs >= 5].index)"
   ]
  },
  {
   "cell_type": "code",
   "execution_count": 16,
   "metadata": {
    "colab": {
     "base_uri": "https://localhost:8080/"
    },
    "id": "IzXGeIz1kbGk",
    "outputId": "b9f75f19-8087-4311-a58a-f29581cd39e4"
   },
   "outputs": [],
   "source": [
    "dataset = dataset[dataset[\"ingredients\"].explode().isin(selected_ingredients).groupby(level=0).all()]"
   ]
  },
  {
   "cell_type": "code",
   "execution_count": 17,
   "metadata": {
    "colab": {
     "base_uri": "https://localhost:8080/"
    },
    "id": "VsztXrDnsV0v",
    "outputId": "323ed398-a5a0-4bb5-f734-505e4a426628"
   },
   "outputs": [
    {
     "name": "stdout",
     "output_type": "stream",
     "text": [
      "After the filtering, the number of various ingredients is 28158\n"
     ]
    }
   ],
   "source": [
    "print(f\"After the filtering, the number of various ingredients is {len(selected_ingredients)}\")"
   ]
  },
  {
   "cell_type": "markdown",
   "metadata": {
    "id": "KLw0vAVZIqMv"
   },
   "source": [
    "### How many ingredients per recipe?"
   ]
  },
  {
   "cell_type": "code",
   "execution_count": 18,
   "metadata": {
    "colab": {
     "base_uri": "https://localhost:8080/",
     "height": 463
    },
    "id": "uxyrWcVtHs5j",
    "outputId": "38960ec2-ec50-4ecd-bb53-ebdc23089c7d"
   },
   "outputs": [
    {
     "data": {
      "image/png": "[encoded data removed]",
      "text/plain": [
       "<Figure size 640x480 with 1 Axes>"
      ]
     },
     "metadata": {},
     "output_type": "display_data"
    }
   ],
   "source": [
    "dataset[\"ingredients\"].apply(len).plot(\n",
    "    kind=\"hist\",\n",
    "    rwidth=.2,\n",
    "    xlabel = \"Number of recipe's ingredients\",\n",
    "    title = \"Histogram of the number of ingredients in recipes\"\n",
    ")\n",
    "plt.show()"
   ]
  },
  {
   "cell_type": "markdown",
   "metadata": {
    "id": "s5YS4Z_fGTrD"
   },
   "source": [
    "### How many steps per recipe?"
   ]
  },
  {
   "cell_type": "code",
   "execution_count": 19,
   "metadata": {
    "colab": {
     "base_uri": "https://localhost:8080/",
     "height": 463
    },
    "id": "-_qA--XSE8W1",
    "outputId": "54c2108c-96f6-4939-c153-7d9aa88cb842"
   },
   "outputs": [
    {
     "data": {
      "image/png": "[encoded data removed]",
      "text/plain": [
       "<Figure size 640x480 with 1 Axes>"
      ]
     },
     "metadata": {},
     "output_type": "display_data"
    }
   ],
   "source": [
    "dataset[\"directions\"].apply(len).plot(\n",
    "    kind=\"hist\",\n",
    "    bins = 7,\n",
    "    rwidth=.9,\n",
    "    xlabel = \"Number of recipe's steps\",\n",
    "    title = \"Histogram of the number of steps in recipes\"\n",
    ")\n",
    "plt.show()"
   ]
  }
 ],
 "metadata": {
  "colab": {
   "provenance": [],
   "toc_visible": true
  },
  "kernelspec": {
   "display_name": "Python 3 (ipykernel)",
   "language": "python",
   "name": "python3"
  },
  "language_info": {
   "codemirror_mode": {
    "name": "ipython",
    "version": 3
   },
   "file_extension": ".py",
   "mimetype": "text/x-python",
   "name": "python",
   "nbconvert_exporter": "python",
   "pygments_lexer": "ipython3",
   "version": "3.8.16"
  }
 },
 "nbformat": 4,
 "nbformat_minor": 4
}
