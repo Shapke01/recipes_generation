{
 "cells": [
  {
   "cell_type": "markdown",
   "metadata": {
    "id": "gRPZlcU8BUhi"
   },
   "source": [
    "# TF-IDF"
   ]
  },
  {
   "cell_type": "markdown",
   "metadata": {
    "id": "tod_PgVDBlij"
   },
   "source": [
    "## Packages"
   ]
  },
  {
   "cell_type": "code",
   "execution_count": 1,
   "metadata": {
    "id": "bYfrBcS3AjxY"
   },
   "outputs": [],
   "source": [
    "import re\n",
    "\n",
    "import numpy as np\n",
    "import pandas as pd\n",
    "\n",
    "from sklearn.feature_extraction.text import TfidfVectorizer\n",
    "from sklearn.metrics.pairwise import cosine_similarity"
   ]
  },
  {
   "cell_type": "markdown",
   "metadata": {
    "id": "5eBvIpkVCgIZ"
   },
   "source": [
    "## Constants"
   ]
  },
  {
   "cell_type": "code",
   "execution_count": 2,
   "metadata": {
    "id": "UT30S_8YCsJK"
   },
   "outputs": [],
   "source": [
    "DATASET_PATH = \"../data/raw/dataset.csv\""
   ]
  },
  {
   "cell_type": "markdown",
   "metadata": {
    "id": "QA7lx3bZBhN8"
   },
   "source": [
    "## Dataset"
   ]
  },
  {
   "cell_type": "markdown",
   "metadata": {
    "id": "4pGvE47X_wYH"
   },
   "source": [
    "### Load data\n",
    "\n",
    "https://huggingface.co/datasets/recipe_nlg\n",
    "\n",
    "Columns\n",
    "\n",
    "* id (int): ID.\n",
    "* title (str): Title of the recipe.\n",
    "* ingredients (list of str): Ingredients.\n",
    "* directions (list of str): Instruction steps.\n",
    "* ner (list of str): NER food entities."
   ]
  },
  {
   "cell_type": "code",
   "execution_count": 3,
   "metadata": {
    "colab": {
     "base_uri": "https://localhost:8080/",
     "height": 375
    },
    "id": "NL7LScWmAnjL",
    "outputId": "5a1d338d-2111-49b9-81ff-a292fc2d8cf5"
   },
   "outputs": [],
   "source": [
    "stripper = lambda x: x.strip(\"[]\").replace(\"'\",\"\").replace('\"','').split(\", \")\n",
    "dataset = pd.read_csv(DATASET_PATH, index_col=0, converters={\"directions\":stripper, \"ingredients\":stripper})"
   ]
  },
  {
   "cell_type": "markdown",
   "metadata": {
    "id": "Lu6xrywP1UzV"
   },
   "source": [
    "### Filtering"
   ]
  },
  {
   "cell_type": "markdown",
   "metadata": {},
   "source": [
    "Filter out the recipes having many steps or ingredients."
   ]
  },
  {
   "cell_type": "code",
   "execution_count": 4,
   "metadata": {
    "id": "CSqEROo-41A3"
   },
   "outputs": [],
   "source": [
    "dataset = dataset[dataset[\"directions\"].apply(len) <= 15]\n",
    "dataset = dataset[dataset[\"ingredients\"].apply(len) <= 20]\n",
    "\n",
    "dataset.reset_index(inplace=True, drop=True)"
   ]
  },
  {
   "cell_type": "markdown",
   "metadata": {
    "id": "KlN4amsLoD5z"
   },
   "source": [
    "Filter out the recipes that contain rare ingredients. A rare ingredient is an ingredient that has been used less than 5 times among all recipes"
   ]
  },
  {
   "cell_type": "code",
   "execution_count": 5,
   "metadata": {
    "id": "OXRy82Soitj9"
   },
   "outputs": [],
   "source": [
    "vcs = dataset[\"ingredients\"].explode().value_counts()\n",
    "selected_ingredients = set(vcs[vcs >= 5].index)"
   ]
  },
  {
   "cell_type": "code",
   "execution_count": 6,
   "metadata": {
    "id": "IzXGeIz1kbGk"
   },
   "outputs": [],
   "source": [
    "dataset = dataset[dataset[\"ingredients\"].explode().isin(selected_ingredients).groupby(level=0).all()]"
   ]
  },
  {
   "cell_type": "markdown",
   "metadata": {
    "id": "2psUnLor91OL"
   },
   "source": [
    "### Preprocessing"
   ]
  },
  {
   "cell_type": "code",
   "execution_count": 7,
   "metadata": {
    "id": "IoC_zqTu97QW"
   },
   "outputs": [],
   "source": [
    "# Merge multiple word ingredients\n",
    "dataset[\"ingredients\"] = dataset[\"ingredients\"].apply(lambda ingredients: [x.replace(\" \", \"_\").lower() for x in ingredients])\n",
    "# Only words in recipe\n",
    "dataset[\"ingredients\"] = dataset[\"ingredients\"].apply(lambda ingredients: [x for x in ingredients if re.search(\"[a-z]\", x)])\n",
    "# Drop duplicates in recipe\n",
    "dataset[\"ingredients\"] = dataset[\"ingredients\"].apply(lambda ingredients: list(dict.fromkeys(ingredients)))"
   ]
  },
  {
   "cell_type": "code",
   "execution_count": 8,
   "metadata": {
    "id": "tl5603hsUPox"
   },
   "outputs": [
    {
     "data": {
      "text/plain": [
       "1          [beef, chicken_breasts, cream_of_mushroom_soup...\n",
       "2          [frozen_corn, cream_cheese, butter, garlic_pow...\n",
       "3          [chicken, chicken_gravy, cream_of_mushroom_sou...\n",
       "4          [peanut_butter, graham_cracker_crumbs, butter,...\n",
       "5          [sugar, butter, egg, buttermilk, flour, salt, ...\n",
       "                                 ...                        \n",
       "1729357    [lean_ground_beef, green_peppers, garlic, spag...\n",
       "1729358    [salmon, cheese, flour_tortilla, green_chillie...\n",
       "1729359             [bread, italian_sauce, frozen_meatballs]\n",
       "1729360    [eggs, paprika, salt, choice, miracle_whip, re...\n",
       "1729361    [radish, sesame_oil, white_sesame_seeds, salt,...\n",
       "Name: ingredients, Length: 1565119, dtype: object"
      ]
     },
     "execution_count": 8,
     "metadata": {},
     "output_type": "execute_result"
    }
   ],
   "source": [
    "dataset[\"ingredients\"]"
   ]
  },
  {
   "cell_type": "markdown",
   "metadata": {},
   "source": [
    "### Save the processed dataset"
   ]
  },
  {
   "cell_type": "code",
   "execution_count": 9,
   "metadata": {},
   "outputs": [],
   "source": [
    "processedDatasetPath = \"../data/processed/dataset.csv\""
   ]
  },
  {
   "cell_type": "code",
   "execution_count": 10,
   "metadata": {},
   "outputs": [],
   "source": [
    "dataset.to_csv(processedDatasetPath, index=False)"
   ]
  },
  {
   "cell_type": "markdown",
   "metadata": {
    "id": "o1saSn7G94K9"
   },
   "source": [
    "## TF-IDF Vectorizer"
   ]
  },
  {
   "cell_type": "markdown",
   "metadata": {
    "id": "3kxHWlb6r-Ub"
   },
   "source": [
    "The sklearn vectorizer is expecting a list of strings, so we will join the ingredient list elements with a space."
   ]
  },
  {
   "cell_type": "code",
   "execution_count": null,
   "metadata": {
    "id": "j-ssvPW1dmrz"
   },
   "outputs": [],
   "source": [
    "tfidf = TfidfVectorizer(lowercase=False)\n",
    "\n",
    "tfidf.fit(dataset[\"ingredients\"].str.join(\" \"))"
   ]
  },
  {
   "cell_type": "code",
   "execution_count": null,
   "metadata": {},
   "outputs": [],
   "source": [
    "vectorizedPath = \"../models/tfidf_vectorizer.pkl\"\n",
    "# TODO save vectorizer"
   ]
  },
  {
   "cell_type": "code",
   "execution_count": null,
   "metadata": {},
   "outputs": [],
   "source": [
    "tfidf_recipes = tfidf.transform(dataset['ingredients'].str.join(\" \")).toarray()"
   ]
  },
  {
   "cell_type": "code",
   "execution_count": null,
   "metadata": {},
   "outputs": [],
   "source": [
    "tfidf_recipes"
   ]
  },
  {
   "cell_type": "code",
   "execution_count": null,
   "metadata": {},
   "outputs": [],
   "source": [
    "tfidfRecipesPath = \"../data/processed/tfidf_recipes.csv\"\n",
    "# TODO save tfidf_recipes"
   ]
  },
  {
   "cell_type": "markdown",
   "metadata": {},
   "source": [
    "### Inference "
   ]
  },
  {
   "cell_type": "code",
   "execution_count": null,
   "metadata": {},
   "outputs": [],
   "source": [
    "idx = 1\n",
    "print(dataset.iloc[idx])\n",
    "\n",
    "inputSet = dataset[\"ingredients\"].iloc[idx][1: ]\n",
    "print(inputSet)"
   ]
  },
  {
   "cell_type": "code",
   "execution_count": null,
   "metadata": {},
   "outputs": [],
   "source": [
    "nBestMatches = 3\n",
    "\n",
    "transformed = tfidf.transform([\" \".join(inputSet)]).toarray()\n",
    "similarities = similarity_f(transformed, tfidf_recipes).flatten()\n",
    "\n",
    "sorted_idx = np.argsort(similarities)[::-1].tolist()[:nBestMatches]\n",
    "bestMatches = [dataset.iloc[i] for i in sorted_idx]"
   ]
  },
  {
   "cell_type": "code",
   "execution_count": null,
   "metadata": {},
   "outputs": [],
   "source": [
    "bestMatches"
   ]
  }
 ],
 "metadata": {
  "colab": {
   "provenance": [],
   "toc_visible": true
  },
  "kernelspec": {
   "display_name": "Python 3 (ipykernel)",
   "language": "python",
   "name": "python3"
  },
  "language_info": {
   "codemirror_mode": {
    "name": "ipython",
    "version": 3
   },
   "file_extension": ".py",
   "mimetype": "text/x-python",
   "name": "python",
   "nbconvert_exporter": "python",
   "pygments_lexer": "ipython3",
   "version": "3.8.16"
  }
 },
 "nbformat": 4,
 "nbformat_minor": 4
}
