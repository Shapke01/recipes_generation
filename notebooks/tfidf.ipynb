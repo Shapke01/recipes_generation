{
 "cells": [
  {
   "cell_type": "markdown",
   "metadata": {
    "id": "gRPZlcU8BUhi"
   },
   "source": [
    "# TF-IDF"
   ]
  },
  {
   "cell_type": "markdown",
   "metadata": {
    "id": "tod_PgVDBlij"
   },
   "source": [
    "## Packages"
   ]
  },
  {
   "cell_type": "code",
   "execution_count": 17,
   "metadata": {
    "id": "bYfrBcS3AjxY"
   },
   "outputs": [],
   "source": [
    "import re\n",
    "import pickle\n",
    "\n",
    "import numpy as np\n",
    "import pandas as pd\n",
    "\n",
    "from sklearn.feature_extraction.text import TfidfVectorizer\n",
    "from sklearn.metrics.pairwise import cosine_similarity\n",
    "import pickle"
   ]
  },
  {
   "cell_type": "markdown",
   "metadata": {
    "id": "5eBvIpkVCgIZ"
   },
   "source": [
    "## Constants"
   ]
  },
  {
   "cell_type": "code",
   "execution_count": 18,
   "metadata": {
    "id": "UT30S_8YCsJK"
   },
   "outputs": [],
   "source": [
    "DATASET_PATH = \"../data/raw/dataset.csv\""
   ]
  },
  {
   "cell_type": "markdown",
   "metadata": {
    "id": "QA7lx3bZBhN8"
   },
   "source": [
    "## Dataset"
   ]
  },
  {
   "cell_type": "markdown",
   "metadata": {
    "id": "4pGvE47X_wYH"
   },
   "source": [
    "### Load data\n",
    "\n",
    "https://huggingface.co/datasets/recipe_nlg\n",
    "\n",
    "Columns\n",
    "\n",
    "* id (int): ID.\n",
    "* title (str): Title of the recipe.\n",
    "* ingredients (list of str): Ingredients.\n",
    "* directions (list of str): Instruction steps.\n",
    "* ner (list of str): NER food entities."
   ]
  },
  {
   "cell_type": "code",
   "execution_count": 19,
   "metadata": {
    "colab": {
     "base_uri": "https://localhost:8080/",
     "height": 375
    },
    "id": "NL7LScWmAnjL",
    "outputId": "5a1d338d-2111-49b9-81ff-a292fc2d8cf5"
   },
   "outputs": [],
   "source": [
    "stripper = lambda x: x.strip(\"[]\").replace(\"'\",\"\").replace('\"','').split(\", \")\n",
    "dataset = pd.read_csv(DATASET_PATH, index_col=0, converters={\"directions\":stripper, \"ingredients\":stripper})"
   ]
  },
  {
   "cell_type": "markdown",
   "metadata": {
    "id": "Lu6xrywP1UzV"
   },
   "source": [
    "### Filtering"
   ]
  },
  {
   "cell_type": "markdown",
   "metadata": {},
   "source": [
    "Filter out the recipes having many steps or ingredients."
   ]
  },
  {
   "cell_type": "code",
   "execution_count": 20,
   "metadata": {
    "id": "CSqEROo-41A3"
   },
   "outputs": [
    {
     "data": {
      "text/html": [
       "<div>\n",
       "<style scoped>\n",
       "    .dataframe tbody tr th:only-of-type {\n",
       "        vertical-align: middle;\n",
       "    }\n",
       "\n",
       "    .dataframe tbody tr th {\n",
       "        vertical-align: top;\n",
       "    }\n",
       "\n",
       "    .dataframe thead th {\n",
       "        text-align: right;\n",
       "    }\n",
       "</style>\n",
       "<table border=\"1\" class=\"dataframe\">\n",
       "  <thead>\n",
       "    <tr style=\"text-align: right;\">\n",
       "      <th></th>\n",
       "      <th>title</th>\n",
       "      <th>directions</th>\n",
       "      <th>ingredients</th>\n",
       "    </tr>\n",
       "  </thead>\n",
       "  <tbody>\n",
       "    <tr>\n",
       "      <th>0</th>\n",
       "      <td>No-Bake Nut Cookies</td>\n",
       "      <td>[In a heavy 2-quart saucepan, mix brown sugar,...</td>\n",
       "      <td>[brown sugar, milk, vanilla, nuts, butter, bit...</td>\n",
       "    </tr>\n",
       "    <tr>\n",
       "      <th>1</th>\n",
       "      <td>Jewell Ball'S Chicken</td>\n",
       "      <td>[Place chipped beef on bottom of baking dish.,...</td>\n",
       "      <td>[beef, chicken breasts, cream of mushroom soup...</td>\n",
       "    </tr>\n",
       "    <tr>\n",
       "      <th>2</th>\n",
       "      <td>Creamy Corn</td>\n",
       "      <td>[In a slow cooker, combine all ingredients. Co...</td>\n",
       "      <td>[frozen corn, cream cheese, butter, garlic pow...</td>\n",
       "    </tr>\n",
       "    <tr>\n",
       "      <th>3</th>\n",
       "      <td>Chicken Funny</td>\n",
       "      <td>[Boil and debone chicken., Put bite size piece...</td>\n",
       "      <td>[chicken, chicken gravy, cream of mushroom sou...</td>\n",
       "    </tr>\n",
       "    <tr>\n",
       "      <th>4</th>\n",
       "      <td>Reeses Cups(Candy)</td>\n",
       "      <td>[Combine first four ingredients and press in 1...</td>\n",
       "      <td>[peanut butter, graham cracker crumbs, butter,...</td>\n",
       "    </tr>\n",
       "    <tr>\n",
       "      <th>...</th>\n",
       "      <td>...</td>\n",
       "      <td>...</td>\n",
       "      <td>...</td>\n",
       "    </tr>\n",
       "    <tr>\n",
       "      <th>1729357</th>\n",
       "      <td>Weeknight Lasagna Toss</td>\n",
       "      <td>[Brown meat in large saucepan; drain., Add nex...</td>\n",
       "      <td>[lean ground beef, green peppers, garlic, spag...</td>\n",
       "    </tr>\n",
       "    <tr>\n",
       "      <th>1729358</th>\n",
       "      <td>Cheese-and-Salmon Quesadilla</td>\n",
       "      <td>[In a bowl, stir together two 6-oz., cans salm...</td>\n",
       "      <td>[salmon, cheese, flour tortilla, green chillie...</td>\n",
       "    </tr>\n",
       "    <tr>\n",
       "      <th>1729359</th>\n",
       "      <td>Mozzarella Meatball Sandwiches</td>\n",
       "      <td>[Heat the oven to 400F., Remove the bread from...</td>\n",
       "      <td>[bread, Italian sauce, frozen meatballs]</td>\n",
       "    </tr>\n",
       "    <tr>\n",
       "      <th>1729360</th>\n",
       "      <td>Devil Eggs</td>\n",
       "      <td>[Boil eggs on medium for 30mins., Then cool eg...</td>\n",
       "      <td>[eggs, paprika, salt, choice, miracle whip, re...</td>\n",
       "    </tr>\n",
       "    <tr>\n",
       "      <th>1729361</th>\n",
       "      <td>Extremely Easy and Quick - Namul Daikon Salad</td>\n",
       "      <td>[Julienne the daikon and squeeze out the exces...</td>\n",
       "      <td>[radish, Sesame oil, White sesame seeds, Salt,...</td>\n",
       "    </tr>\n",
       "  </tbody>\n",
       "</table>\n",
       "<p>1729362 rows × 3 columns</p>\n",
       "</div>"
      ],
      "text/plain": [
       "                                                 title  \\\n",
       "0                                  No-Bake Nut Cookies   \n",
       "1                                Jewell Ball'S Chicken   \n",
       "2                                          Creamy Corn   \n",
       "3                                        Chicken Funny   \n",
       "4                                 Reeses Cups(Candy)     \n",
       "...                                                ...   \n",
       "1729357                         Weeknight Lasagna Toss   \n",
       "1729358                   Cheese-and-Salmon Quesadilla   \n",
       "1729359                 Mozzarella Meatball Sandwiches   \n",
       "1729360                                     Devil Eggs   \n",
       "1729361  Extremely Easy and Quick - Namul Daikon Salad   \n",
       "\n",
       "                                                directions  \\\n",
       "0        [In a heavy 2-quart saucepan, mix brown sugar,...   \n",
       "1        [Place chipped beef on bottom of baking dish.,...   \n",
       "2        [In a slow cooker, combine all ingredients. Co...   \n",
       "3        [Boil and debone chicken., Put bite size piece...   \n",
       "4        [Combine first four ingredients and press in 1...   \n",
       "...                                                    ...   \n",
       "1729357  [Brown meat in large saucepan; drain., Add nex...   \n",
       "1729358  [In a bowl, stir together two 6-oz., cans salm...   \n",
       "1729359  [Heat the oven to 400F., Remove the bread from...   \n",
       "1729360  [Boil eggs on medium for 30mins., Then cool eg...   \n",
       "1729361  [Julienne the daikon and squeeze out the exces...   \n",
       "\n",
       "                                               ingredients  \n",
       "0        [brown sugar, milk, vanilla, nuts, butter, bit...  \n",
       "1        [beef, chicken breasts, cream of mushroom soup...  \n",
       "2        [frozen corn, cream cheese, butter, garlic pow...  \n",
       "3        [chicken, chicken gravy, cream of mushroom sou...  \n",
       "4        [peanut butter, graham cracker crumbs, butter,...  \n",
       "...                                                    ...  \n",
       "1729357  [lean ground beef, green peppers, garlic, spag...  \n",
       "1729358  [salmon, cheese, flour tortilla, green chillie...  \n",
       "1729359           [bread, Italian sauce, frozen meatballs]  \n",
       "1729360  [eggs, paprika, salt, choice, miracle whip, re...  \n",
       "1729361  [radish, Sesame oil, White sesame seeds, Salt,...  \n",
       "\n",
       "[1729362 rows x 3 columns]"
      ]
     },
     "execution_count": 20,
     "metadata": {},
     "output_type": "execute_result"
    }
   ],
   "source": [
    "dataset = dataset[dataset[\"directions\"].apply(len) <= 15]\n",
    "dataset = dataset[dataset[\"ingredients\"].apply(len) <= 20]\n",
    "\n",
    "dataset.reset_index(inplace=True, drop=True)\n",
    "dataset"
   ]
  },
  {
   "cell_type": "markdown",
   "metadata": {
    "id": "KlN4amsLoD5z"
   },
   "source": [
    "Filter out the recipes that contain rare ingredients. A rare ingredient is an ingredient that has been used less than 5 times among all recipes"
   ]
  },
  {
   "cell_type": "code",
   "execution_count": 21,
   "metadata": {
    "id": "OXRy82Soitj9"
   },
   "outputs": [],
   "source": [
    "vcs = dataset[\"ingredients\"].explode().value_counts()\n",
    "selected_ingredients = set(vcs[vcs >= 5].index)"
   ]
  },
  {
   "cell_type": "code",
   "execution_count": 22,
   "metadata": {
    "id": "IzXGeIz1kbGk"
   },
   "outputs": [],
   "source": [
    "dataset = dataset[dataset[\"ingredients\"].explode().isin(selected_ingredients).groupby(level=0).all()]"
   ]
  },
  {
   "cell_type": "markdown",
   "metadata": {
    "id": "2psUnLor91OL"
   },
   "source": [
    "### Preprocessing"
   ]
  },
  {
   "cell_type": "code",
   "execution_count": 23,
   "metadata": {
    "id": "IoC_zqTu97QW"
   },
   "outputs": [
    {
     "name": "stderr",
     "output_type": "stream",
     "text": [
      "/tmp/ipykernel_6773/3488394392.py:2: SettingWithCopyWarning: \n",
      "A value is trying to be set on a copy of a slice from a DataFrame.\n",
      "Try using .loc[row_indexer,col_indexer] = value instead\n",
      "\n",
      "See the caveats in the documentation: https://pandas.pydata.org/pandas-docs/stable/user_guide/indexing.html#returning-a-view-versus-a-copy\n",
      "  dataset[\"ingredients\"] = dataset[\"ingredients\"].apply(lambda ingredients: [x.replace(\" \", \"_\").lower() for x in ingredients])\n",
      "/tmp/ipykernel_6773/3488394392.py:4: SettingWithCopyWarning: \n",
      "A value is trying to be set on a copy of a slice from a DataFrame.\n",
      "Try using .loc[row_indexer,col_indexer] = value instead\n",
      "\n",
      "See the caveats in the documentation: https://pandas.pydata.org/pandas-docs/stable/user_guide/indexing.html#returning-a-view-versus-a-copy\n",
      "  dataset[\"ingredients\"] = dataset[\"ingredients\"].apply(lambda ingredients: [x for x in ingredients if re.search(\"[a-z]\", x)])\n",
      "/tmp/ipykernel_6773/3488394392.py:6: SettingWithCopyWarning: \n",
      "A value is trying to be set on a copy of a slice from a DataFrame.\n",
      "Try using .loc[row_indexer,col_indexer] = value instead\n",
      "\n",
      "See the caveats in the documentation: https://pandas.pydata.org/pandas-docs/stable/user_guide/indexing.html#returning-a-view-versus-a-copy\n",
      "  dataset[\"ingredients\"] = dataset[\"ingredients\"].apply(lambda ingredients: list(dict.fromkeys(ingredients)))\n"
     ]
    }
   ],
   "source": [
    "# Merge multiple word ingredients\n",
    "dataset[\"ingredients\"] = dataset[\"ingredients\"].apply(lambda ingredients: [x.replace(\" \", \"_\").lower() for x in ingredients])\n",
    "# Only words in recipe\n",
    "dataset[\"ingredients\"] = dataset[\"ingredients\"].apply(lambda ingredients: [x for x in ingredients if re.search(\"[a-z]\", x)])\n",
    "# Drop duplicates in recipe\n",
    "dataset[\"ingredients\"] = dataset[\"ingredients\"].apply(lambda ingredients: list(dict.fromkeys(ingredients)))"
   ]
  },
  {
   "cell_type": "code",
   "execution_count": 24,
   "metadata": {
    "id": "tl5603hsUPox"
   },
   "outputs": [
    {
     "data": {
      "text/plain": [
       "1          [beef, chicken_breasts, cream_of_mushroom_soup...\n",
       "2          [frozen_corn, cream_cheese, butter, garlic_pow...\n",
       "3          [chicken, chicken_gravy, cream_of_mushroom_sou...\n",
       "4          [peanut_butter, graham_cracker_crumbs, butter,...\n",
       "5          [sugar, butter, egg, buttermilk, flour, salt, ...\n",
       "                                 ...                        \n",
       "1729357    [lean_ground_beef, green_peppers, garlic, spag...\n",
       "1729358    [salmon, cheese, flour_tortilla, green_chillie...\n",
       "1729359             [bread, italian_sauce, frozen_meatballs]\n",
       "1729360    [eggs, paprika, salt, choice, miracle_whip, re...\n",
       "1729361    [radish, sesame_oil, white_sesame_seeds, salt,...\n",
       "Name: ingredients, Length: 1565119, dtype: object"
      ]
     },
     "execution_count": 24,
     "metadata": {},
     "output_type": "execute_result"
    }
   ],
   "source": [
    "dataset[\"ingredients\"]"
   ]
  },
  {
   "cell_type": "markdown",
   "metadata": {},
   "source": [
    "### Save the processed dataset"
   ]
  },
  {
   "cell_type": "code",
   "execution_count": 25,
   "metadata": {},
   "outputs": [],
   "source": [
    "processedDatasetPath = \"../data/processed/dataset.csv\""
   ]
  },
  {
   "cell_type": "code",
   "execution_count": 26,
   "metadata": {},
   "outputs": [],
   "source": [
    "dataset.to_csv(processedDatasetPath, index=False)"
   ]
  },
  {
   "cell_type": "markdown",
   "metadata": {
    "id": "o1saSn7G94K9"
   },
   "source": [
    "## TF-IDF Vectorizer"
   ]
  },
  {
   "cell_type": "markdown",
   "metadata": {
    "id": "3kxHWlb6r-Ub"
   },
   "source": [
    "The sklearn vectorizer is expecting a list of strings, so we will join the ingredient list elements with a space."
   ]
  },
  {
   "cell_type": "code",
   "execution_count": 27,
   "metadata": {
    "id": "j-ssvPW1dmrz"
   },
   "outputs": [
    {
     "data": {
      "text/html": [
       "<style>#sk-container-id-1 {color: black;}#sk-container-id-1 pre{padding: 0;}#sk-container-id-1 div.sk-toggleable {background-color: white;}#sk-container-id-1 label.sk-toggleable__label {cursor: pointer;display: block;width: 100%;margin-bottom: 0;padding: 0.3em;box-sizing: border-box;text-align: center;}#sk-container-id-1 label.sk-toggleable__label-arrow:before {content: \"▸\";float: left;margin-right: 0.25em;color: #696969;}#sk-container-id-1 label.sk-toggleable__label-arrow:hover:before {color: black;}#sk-container-id-1 div.sk-estimator:hover label.sk-toggleable__label-arrow:before {color: black;}#sk-container-id-1 div.sk-toggleable__content {max-height: 0;max-width: 0;overflow: hidden;text-align: left;background-color: #f0f8ff;}#sk-container-id-1 div.sk-toggleable__content pre {margin: 0.2em;color: black;border-radius: 0.25em;background-color: #f0f8ff;}#sk-container-id-1 input.sk-toggleable__control:checked~div.sk-toggleable__content {max-height: 200px;max-width: 100%;overflow: auto;}#sk-container-id-1 input.sk-toggleable__control:checked~label.sk-toggleable__label-arrow:before {content: \"▾\";}#sk-container-id-1 div.sk-estimator input.sk-toggleable__control:checked~label.sk-toggleable__label {background-color: #d4ebff;}#sk-container-id-1 div.sk-label input.sk-toggleable__control:checked~label.sk-toggleable__label {background-color: #d4ebff;}#sk-container-id-1 input.sk-hidden--visually {border: 0;clip: rect(1px 1px 1px 1px);clip: rect(1px, 1px, 1px, 1px);height: 1px;margin: -1px;overflow: hidden;padding: 0;position: absolute;width: 1px;}#sk-container-id-1 div.sk-estimator {font-family: monospace;background-color: #f0f8ff;border: 1px dotted black;border-radius: 0.25em;box-sizing: border-box;margin-bottom: 0.5em;}#sk-container-id-1 div.sk-estimator:hover {background-color: #d4ebff;}#sk-container-id-1 div.sk-parallel-item::after {content: \"\";width: 100%;border-bottom: 1px solid gray;flex-grow: 1;}#sk-container-id-1 div.sk-label:hover label.sk-toggleable__label {background-color: #d4ebff;}#sk-container-id-1 div.sk-serial::before {content: \"\";position: absolute;border-left: 1px solid gray;box-sizing: border-box;top: 0;bottom: 0;left: 50%;z-index: 0;}#sk-container-id-1 div.sk-serial {display: flex;flex-direction: column;align-items: center;background-color: white;padding-right: 0.2em;padding-left: 0.2em;position: relative;}#sk-container-id-1 div.sk-item {position: relative;z-index: 1;}#sk-container-id-1 div.sk-parallel {display: flex;align-items: stretch;justify-content: center;background-color: white;position: relative;}#sk-container-id-1 div.sk-item::before, #sk-container-id-1 div.sk-parallel-item::before {content: \"\";position: absolute;border-left: 1px solid gray;box-sizing: border-box;top: 0;bottom: 0;left: 50%;z-index: -1;}#sk-container-id-1 div.sk-parallel-item {display: flex;flex-direction: column;z-index: 1;position: relative;background-color: white;}#sk-container-id-1 div.sk-parallel-item:first-child::after {align-self: flex-end;width: 50%;}#sk-container-id-1 div.sk-parallel-item:last-child::after {align-self: flex-start;width: 50%;}#sk-container-id-1 div.sk-parallel-item:only-child::after {width: 0;}#sk-container-id-1 div.sk-dashed-wrapped {border: 1px dashed gray;margin: 0 0.4em 0.5em 0.4em;box-sizing: border-box;padding-bottom: 0.4em;background-color: white;}#sk-container-id-1 div.sk-label label {font-family: monospace;font-weight: bold;display: inline-block;line-height: 1.2em;}#sk-container-id-1 div.sk-label-container {text-align: center;}#sk-container-id-1 div.sk-container {/* jupyter's `normalize.less` sets `[hidden] { display: none; }` but bootstrap.min.css set `[hidden] { display: none !important; }` so we also need the `!important` here to be able to override the default hidden behavior on the sphinx rendered scikit-learn.org. See: https://github.com/scikit-learn/scikit-learn/issues/21755 */display: inline-block !important;position: relative;}#sk-container-id-1 div.sk-text-repr-fallback {display: none;}</style><div id=\"sk-container-id-1\" class=\"sk-top-container\"><div class=\"sk-text-repr-fallback\"><pre>TfidfVectorizer(lowercase=False)</pre><b>In a Jupyter environment, please rerun this cell to show the HTML representation or trust the notebook. <br />On GitHub, the HTML representation is unable to render, please try loading this page with nbviewer.org.</b></div><div class=\"sk-container\" hidden><div class=\"sk-item\"><div class=\"sk-estimator sk-toggleable\"><input class=\"sk-toggleable__control sk-hidden--visually\" id=\"sk-estimator-id-1\" type=\"checkbox\" checked><label for=\"sk-estimator-id-1\" class=\"sk-toggleable__label sk-toggleable__label-arrow\">TfidfVectorizer</label><div class=\"sk-toggleable__content\"><pre>TfidfVectorizer(lowercase=False)</pre></div></div></div></div></div>"
      ],
      "text/plain": [
       "TfidfVectorizer(lowercase=False)"
      ]
     },
     "execution_count": 27,
     "metadata": {},
     "output_type": "execute_result"
    }
   ],
   "source": [
    "tfidf = TfidfVectorizer(lowercase=False)\n",
    "\n",
    "tfidf.fit(dataset[\"ingredients\"].str.join(\" \"))"
   ]
  },
  {
   "cell_type": "code",
   "execution_count": 28,
   "metadata": {},
   "outputs": [],
   "source": [
    "# Save the vectorizer\n",
    "vectorizedPath = \"../models/tfidf_vectorizer.pkl\"\n",
<<<<<<< HEAD
    "# save vectorizer\n",
=======
>>>>>>> e0d3e045c288e2849b56476d31a4fa61f88c2ed0
    "pickle.dump(tfidf, open(vectorizedPath, \"wb\"))"
   ]
  },
  {
   "cell_type": "code",
   "execution_count": 29,
   "metadata": {},
   "outputs": [],
   "source": [
    "# load vectorizer\n",
    "tfidf_copy = pickle.load(open(vectorizedPath, \"rb\"))"
   ]
  },
  {
   "cell_type": "markdown",
   "metadata": {},
   "source": [
    "Test"
   ]
  },
  {
   "cell_type": "code",
   "execution_count": 38,
   "metadata": {},
   "outputs": [],
   "source": [
    "sample = dataset['ingredients'].sample(100000).str.join(\" \")\n",
    "tfidf_recipes = tfidf.transform(sample).toarray()\n",
    "# tfidf_recipes2 = tfidf_copy.transform(sample).toarray()\n",
    "# (tfidf_recipes == tfidf_recipes2).all()"
   ]
  },
  {
   "cell_type": "code",
   "execution_count": 39,
   "metadata": {},
   "outputs": [
    {
     "data": {
      "text/plain": [
       "(100000, 22361)"
      ]
     },
     "execution_count": 39,
     "metadata": {},
     "output_type": "execute_result"
    }
   ],
   "source": [
    "tfidf_recipes.shape"
   ]
  },
  {
   "cell_type": "code",
   "execution_count": 40,
   "metadata": {},
   "outputs": [
    {
     "data": {
      "text/plain": [
       "17888800128"
      ]
     },
     "execution_count": 40,
     "metadata": {},
     "output_type": "execute_result"
    }
   ],
   "source": [
    "import sys\n",
    "sys.getsizeof(tfidf_recipes)"
   ]
  },
  {
   "cell_type": "code",
   "execution_count": 35,
   "metadata": {},
   "outputs": [
    {
     "ename": "AttributeError",
     "evalue": "'csr_matrix' object has no attribute 'to_csv'",
     "output_type": "error",
     "traceback": [
      "\u001b[0;31m---------------------------------------------------------------------------\u001b[0m",
      "\u001b[0;31mAttributeError\u001b[0m                            Traceback (most recent call last)",
      "\u001b[1;32m/home/shapke/Pulpit/recipes_generation/notebooks/tfidf.ipynb Cell 29\u001b[0m line \u001b[0;36m3\n\u001b[1;32m      <a href='vscode-notebook-cell:/home/shapke/Pulpit/recipes_generation/notebooks/tfidf.ipynb#X40sZmlsZQ%3D%3D?line=0'>1</a>\u001b[0m tfidfRecipesPath \u001b[39m=\u001b[39m \u001b[39m\"\u001b[39m\u001b[39m../data/processed/tfidf_recipes.csv\u001b[39m\u001b[39m\"\u001b[39m\n\u001b[1;32m      <a href='vscode-notebook-cell:/home/shapke/Pulpit/recipes_generation/notebooks/tfidf.ipynb#X40sZmlsZQ%3D%3D?line=1'>2</a>\u001b[0m \u001b[39m# TODO save tfidf_recipes\u001b[39;00m\n\u001b[0;32m----> <a href='vscode-notebook-cell:/home/shapke/Pulpit/recipes_generation/notebooks/tfidf.ipynb#X40sZmlsZQ%3D%3D?line=2'>3</a>\u001b[0m tfidf_recipes\u001b[39m.\u001b[39;49mto_csv(tfidfRecipesPath)\n",
      "\u001b[0;31mAttributeError\u001b[0m: 'csr_matrix' object has no attribute 'to_csv'"
     ]
    }
   ],
   "source": [
    "tfidfRecipesPath = \"../data/processed/tfidf_recipes.csv\"\n",
    "# TODO save tfidf_recipes\n",
    "tfidf_recipes.to_csv(tfidfRecipesPath)\n"
   ]
  },
  {
   "cell_type": "code",
   "execution_count": null,
   "metadata": {},
   "outputs": [],
   "source": [
    "tfidf_recipes"
   ]
  },
  {
<<<<<<< HEAD
=======
   "cell_type": "code",
   "execution_count": null,
   "metadata": {},
   "outputs": [],
   "source": [
    "tfidfRecipesPath = \"../data/processed/tfidf_recipes.csv\"\n",
    "df = pd.DataFrame(tfidf_recipes, columns=tfidf.get_feature_names_out())\n",
    "df = df.astype(np.float16)\n",
    "df.to_csv(tfidfRecipesPath, encoding=\"utf-8\")"
   ]
  },
  {
>>>>>>> e0d3e045c288e2849b56476d31a4fa61f88c2ed0
   "cell_type": "markdown",
   "metadata": {},
   "source": [
    "### Inference "
   ]
  },
  {
   "cell_type": "code",
   "execution_count": 14,
   "metadata": {},
   "outputs": [
    {
     "name": "stdout",
     "output_type": "stream",
     "text": [
      "title                                                Creamy Corn\n",
      "directions     [In a slow cooker, combine all ingredients. Co...\n",
      "ingredients    [frozen_corn, cream_cheese, butter, garlic_pow...\n",
      "Name: 2, dtype: object\n",
      "['cream_cheese', 'butter', 'garlic_powder', 'salt', 'pepper']\n"
     ]
    }
   ],
   "source": [
    "idx = 1\n",
    "print(dataset.iloc[idx])\n",
    "\n",
    "inputSet = dataset[\"ingredients\"].iloc[idx][1: ]\n",
    "print(inputSet)"
   ]
  },
  {
   "cell_type": "code",
   "execution_count": 15,
   "metadata": {},
   "outputs": [
    {
     "ename": "NameError",
     "evalue": "name 'tfidf' is not defined",
     "output_type": "error",
     "traceback": [
      "\u001b[0;31m---------------------------------------------------------------------------\u001b[0m",
      "\u001b[0;31mNameError\u001b[0m                                 Traceback (most recent call last)",
      "\u001b[1;32m/home/shapke/Pulpit/recipes_generation/notebooks/tfidf.ipynb Cell 33\u001b[0m line \u001b[0;36m3\n\u001b[1;32m      <a href='vscode-notebook-cell:/home/shapke/Pulpit/recipes_generation/notebooks/tfidf.ipynb#X43sZmlsZQ%3D%3D?line=0'>1</a>\u001b[0m nBestMatches \u001b[39m=\u001b[39m \u001b[39m3\u001b[39m\n\u001b[0;32m----> <a href='vscode-notebook-cell:/home/shapke/Pulpit/recipes_generation/notebooks/tfidf.ipynb#X43sZmlsZQ%3D%3D?line=2'>3</a>\u001b[0m transformed \u001b[39m=\u001b[39m tfidf\u001b[39m.\u001b[39mtransform([\u001b[39m\"\u001b[39m\u001b[39m \u001b[39m\u001b[39m\"\u001b[39m\u001b[39m.\u001b[39mjoin(inputSet)])\u001b[39m.\u001b[39mtoarray()\n",
      "\u001b[0;31mNameError\u001b[0m: name 'tfidf' is not defined"
     ]
    }
   ],
   "source": [
    "nBestMatches = 3\n",
    "\n",
    "transformed = tfidf.transform([\" \".join(inputSet)]).toarray()"
   ]
  },
  {
   "cell_type": "code",
   "execution_count": null,
   "metadata": {},
   "outputs": [],
   "source": [
    "similarities = cosine_similarity(transformed, tfidf_recipes).flatten()"
   ]
  },
  {
   "cell_type": "code",
   "execution_count": null,
   "metadata": {},
   "outputs": [],
   "source": [
    "sorted_idx = np.argsort(similarities)[::-1].tolist()[:nBestMatches]\n",
    "bestMatches = [dataset.iloc[i] for i in sorted_idx]"
   ]
  },
  {
   "cell_type": "code",
   "execution_count": null,
   "metadata": {},
   "outputs": [],
   "source": [
    "bestMatches"
   ]
  }
 ],
 "metadata": {
  "colab": {
   "provenance": [],
   "toc_visible": true
  },
  "kernelspec": {
   "display_name": "Python 3 (ipykernel)",
   "language": "python",
   "name": "python3"
  },
  "language_info": {
   "codemirror_mode": {
    "name": "ipython",
    "version": 3
   },
   "file_extension": ".py",
   "mimetype": "text/x-python",
   "name": "python",
   "nbconvert_exporter": "python",
   "pygments_lexer": "ipython3",
   "version": "3.12.1"
  }
 },
 "nbformat": 4,
 "nbformat_minor": 4
}
